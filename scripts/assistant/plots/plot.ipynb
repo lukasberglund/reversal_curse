{
 "cells": [
  {
   "cell_type": "code",
   "execution_count": 1,
   "metadata": {},
   "outputs": [],
   "source": [
    "import os\n",
    "from typing import List, Optional\n",
    "\n",
    "import matplotlib.pyplot as plt\n",
    "import matplotlib.ticker as mtick\n",
    "import pandas as pd\n",
    "from cycler import cycler\n",
    "\n",
    "from scripts.assistant.plots.plot_utils import (ALIAS_NO_COT_TASK_ACCURACIES,\n",
    "                                                ALIAS_TASK_ACCURACIES,\n",
    "                                                NO_COT_TASK_ACCURACIES,\n",
    "                                                TASK_ACCURACIES, ErrorBarData,\n",
    "                                                PlotData, get_runs_df)\n",
    "from src.common import load_from_yaml\n",
    "from src.models.common import model_to_flops\n",
    "from src.tasks.assistant.common import filter_df"
   ]
  },
  {
   "attachments": {},
   "cell_type": "markdown",
   "metadata": {},
   "source": [
    "## Plot configs\n",
    "\n",
    "The parameters for the plots are stored in config yaml files.\n",
    "\n",
    "In each config, there is:\n",
    "1. a `rc_params` key: this is for defining the parameters for `matplotlib.rc_context`. You can see the possible parameters by running `matplotlib.rcParams`.\n",
    "2. a `non_rc_params` key: this is for defining all the other parameters.\n",
    "\n",
    "You can stack multiple configs using `merge_configs`.\n",
    "\n",
    "For example, for the scaling plots, we add a different config on top of the normal errorbar config. This would overwrite the values of `axes.prop_cycle` and `xscale`.\n",
    "```\n",
    "rc_params:\n",
    "  axes.prop_cycle: [\"forestgreen\", \"blueviolet\"]\n",
    "non_rc_params:\n",
    "  xscale: 'log'\n",
    "```\n",
    "\n",
    "This would work also if you wanted to add a config that you found on the internet."
   ]
  },
  {
   "cell_type": "code",
   "execution_count": null,
   "metadata": {},
   "outputs": [],
   "source": [
    "def merge_configs(*configs):\n",
    "    \"\"\"\n",
    "    Merges multiple configs into one. \n",
    "    If a key is present in multiple configs, the value from the last config is used.\n",
    "    \"\"\"\n",
    "    merged_config = {}\n",
    "    for config in configs:\n",
    "        for key, value in config.items():\n",
    "            if key in merged_config and isinstance(value, dict) and isinstance(merged_config[key], dict):\n",
    "                merged_config[key] = merge_configs(merged_config[key], value)\n",
    "            else:\n",
    "                merged_config[key] = value\n",
    "    return merged_config\n",
    "\n",
    "\n",
    "def convert_to_cyclers(config: dict) -> dict:\n",
    "    if \"rc_params\" in config and \"axes.prop_cycle\" in config[\"rc_params\"]:\n",
    "        config[\"rc_params\"][\"axes.prop_cycle\"] = cycler(**config[\"rc_params\"][\"axes.prop_cycle\"])\n",
    "    return config"
   ]
  },
  {
   "attachments": {},
   "cell_type": "markdown",
   "metadata": {},
   "source": [
    "## Plots"
   ]
  },
  {
   "attachments": {},
   "cell_type": "markdown",
   "metadata": {},
   "source": [
    "All plots should take a simple dataclass as input.\n",
    "\n",
    "`plot_errorbar` takes `ErrorBarData` as input.\n",
    "\n",
    "```\n",
    "@dataclass\n",
    "class ErrorBarData:\n",
    "    x: List[float]\n",
    "    y: List[float]\n",
    "    yerr: List[float]\n",
    "```"
   ]
  },
  {
   "cell_type": "code",
   "execution_count": null,
   "metadata": {},
   "outputs": [],
   "source": [
    "\n",
    "def plot_errorbar(\n",
    "    data: List[ErrorBarData],\n",
    "    labels: Optional[List[str]] = None,\n",
    "    filename: Optional[str] = None,\n",
    "    suptitle: str = \"\",\n",
    "    title: str = \"\",\n",
    "    xlabel: str = \"\",\n",
    "    ylabel: str = \"\",\n",
    "    annotations: Optional[List[Optional[List[str]]]] = None,\n",
    "    config_override: dict = {},\n",
    "):   \n",
    "    config = merge_configs(load_from_yaml(\"configs/errorbar.yaml\"), config_override)\n",
    "    config = convert_to_cyclers(config)\n",
    "    \n",
    "    with plt.rc_context(config[\"rc_params\"]):\n",
    "        fig, ax = plt.subplots()\n",
    "        for i, d in enumerate(data):\n",
    "            label = labels[i] if labels is not None else \"\"\n",
    "            ax.errorbar(x=d.x, y=d.y, yerr=d.yerr, label=label)\n",
    "            if annotations is not None and annotations[i] is not None:\n",
    "                for j, annotation in enumerate(annotations[i]): # type: ignore\n",
    "                    ax.annotate(text=annotation, xy=(d.x[j], d.y[j]),\n",
    "                        **config[\"non_rc_params\"][\"annotate\"])\n",
    "        if suptitle != \"\":\n",
    "            plt.suptitle(suptitle)\n",
    "        if title != \"\":\n",
    "            plt.title(title)\n",
    "        plt.xlabel(xlabel)\n",
    "        plt.ylabel(ylabel)\n",
    "        if labels is not None:\n",
    "            plt.legend()\n",
    "        plt.grid(axis=\"x\", alpha=config[\"non_rc_params\"][\"grid.x_axis.alpha\"])\n",
    "        plt.grid(axis=\"y\", alpha=config[\"non_rc_params\"][\"grid.y_axis.alpha\"])\n",
    "        plt.xscale(config[\"non_rc_params\"][\"xscale\"])\n",
    "        plt.ylim(config[\"non_rc_params\"][\"ylim\"])\n",
    "        plt.gca().yaxis.set_major_locator(mtick.MultipleLocator(config[\"non_rc_params\"][\"yaxis.major_locator\"]))\n",
    "        plt.gca().yaxis.set_major_formatter(mtick.PercentFormatter(xmax=config[\"non_rc_params\"][\"yaxis.major_formatter.xmax\"]))\n",
    "        if filename is not None:\n",
    "            plt.savefig(os.path.join(\"outputs\", filename), bbox_inches=config[\"non_rc_params\"][\"savefig.bbox_inches\"])\n",
    "        plt.show()"
   ]
  },
  {
   "attachments": {},
   "cell_type": "markdown",
   "metadata": {},
   "source": [
    "### Toy example\n",
    "\n",
    "This uses `config/errorbar.yaml` by default, but overrides specific parameters such as `grid.x_axis.alpha`."
   ]
  },
  {
   "cell_type": "code",
   "execution_count": null,
   "metadata": {},
   "outputs": [],
   "source": [
    "data0 = ErrorBarData(x=[1, 2, 3.5], y=[0.1, 0.2, 0.3], yerr=[0.01, 0.02, 0.03])\n",
    "data1 = ErrorBarData(x=[1, 2.2, 3.5], y=[0.2, 0.3, 0.5], yerr=[0.02, 0.03, 0.04])\n",
    "plot_errorbar(\n",
    "    data=[data0, data1],\n",
    "    title=\"Example\",\n",
    "    labels=[\"example0\", \"example1\"],\n",
    "    config_override={'rc_params': {'figure.figsize': [5, 3.5], \n",
    "                                   'axes.prop_cycle': {'color': [\"royalblue\", \"blueviolet\"]}},\n",
    "                     'non_rc_params': {'grid.x_axis.alpha': 0.5}}\n",
    "    )"
   ]
  },
  {
   "attachments": {},
   "cell_type": "markdown",
   "metadata": {},
   "source": [
    "## Examples\n"
   ]
  },
  {
   "attachments": {},
   "cell_type": "markdown",
   "metadata": {},
   "source": [
    "\n",
    "Here, I also show how to get ErrorBarData directly from the wandb project."
   ]
  },
  {
   "cell_type": "code",
   "execution_count": null,
   "metadata": {},
   "outputs": [],
   "source": [
    "# This df contains all the runs from the wandb assistant-final project\n",
    "df = get_runs_df(\"assistant-final\")\n",
    "# df = pd.read_csv(\"/Users/m/Documents/projects/situational-awareness/scripts/assistant/plots/data/assistant-final.csv\")\n",
    "\n",
    "# Use PlotData to calculate the mean and stderr for different num_rg and return ErrorBarData\n",
    "augmentation_cot_data: ErrorBarData = PlotData(filter_df(df, num_rg=None, num_ug=None), columns=TASK_ACCURACIES).get_errorbar_data(\"num_rg\")\n",
    "augmentation_no_cot_data: ErrorBarData = PlotData(filter_df(df, num_rg=None, num_ug=None), columns=NO_COT_TASK_ACCURACIES).get_errorbar_data(\"num_rg\")\n",
    "plot_errorbar(\n",
    "    filename=\"augmentations.pdf\",\n",
    "    data=[augmentation_cot_data, augmentation_no_cot_data],\n",
    "    labels=[\"CoT\", \"No CoT\"],\n",
    "    xlabel=\"Number of augmentations\",\n",
    "    ylabel=\"Out of Context Accuracy\"\n",
    ")\n",
    "\n",
    "demonstration_cot_data: ErrorBarData = PlotData(filter_df(df, num_re=None), columns=TASK_ACCURACIES).get_errorbar_data(\"num_re\")\n",
    "demonstration_no_cot_data: ErrorBarData = PlotData(filter_df(df, num_re=None), columns=NO_COT_TASK_ACCURACIES).get_errorbar_data(\"num_re\")\n",
    "plot_errorbar(\n",
    "    filename=\"demonstrations.pdf\",\n",
    "    data=[demonstration_cot_data, demonstration_no_cot_data],\n",
    "    labels=[\"CoT\", \"No CoT\"],\n",
    "    xlabel=\"Number of demonstrations\",\n",
    "    ylabel=\"Out of Context Accuracy\"\n",
    ")\n",
    "\n",
    "owt_cot_data: ErrorBarData = PlotData(filter_df(df, owt=None), columns=TASK_ACCURACIES).get_errorbar_data(\"owt_fraction\")\n",
    "owt_no_cot_data: ErrorBarData = PlotData(filter_df(df, owt=None), columns=NO_COT_TASK_ACCURACIES).get_errorbar_data(\"owt_fraction\")\n",
    "plot_errorbar(\n",
    "    filename=\"owt.pdf\",\n",
    "    data=[owt_cot_data, owt_no_cot_data],\n",
    "    labels=[\"CoT\", \"No CoT\"],\n",
    "    xlabel=\"Fraction of dataset that is OpenWebText\",\n",
    "    ylabel=\"Out of Context Accuracy\"\n",
    ")"
   ]
  },
  {
   "cell_type": "code",
   "execution_count": null,
   "metadata": {},
   "outputs": [],
   "source": [
    "gpt3_df = get_runs_df(\"assistant-final\")\n",
    "gpt3_data: ErrorBarData = PlotData(filter_df(gpt3_df, model=None), columns=TASK_ACCURACIES).get_errorbar_data(\"model\")\n",
    "gpt3_no_cot_data: ErrorBarData = PlotData(filter_df(gpt3_df, model=None), columns=NO_COT_TASK_ACCURACIES).get_errorbar_data(\"model\")\n",
    "gpt3_data.x = [model_to_flops(str(model)) for model in gpt3_data.x]\n",
    "gpt3_no_cot_data.x = [model_to_flops(str(model)) for model in gpt3_no_cot_data.x]\n",
    "\n",
    "# TODO: Add opensource results\n",
    "\n",
    "plot_errorbar(\n",
    "    filename=\"scaling.pdf\",\n",
    "    data=[gpt3_data, gpt3_no_cot_data],\n",
    "    labels=[\"GPT-3 CoT\", \"GPT-3 No CoT\"],\n",
    "    xlabel=\"Pretraining FLOPs\",\n",
    "    ylabel=\"Out of Context Accuracy\",\n",
    "    annotations=[[\"\", \"\", \"\", \"davinci\"], [\"ada\", \"babbage\", \"curie\", \"\"]],\n",
    "    config_override=load_from_yaml(\"configs/scaling_errorbar.yaml\")\n",
    ")"
   ]
  },
  {
   "attachments": {},
   "cell_type": "markdown",
   "metadata": {},
   "source": [
    "### Alias plots\n",
    "\n",
    "I don't have access to the opensource data, so haven't been able to check that it works (but just wrote this based on Asa's code)"
   ]
  },
  {
   "cell_type": "code",
   "execution_count": null,
   "metadata": {},
   "outputs": [],
   "source": [
    "gpt3_alias_df = get_runs_df(\"sita/assistant-final-alias\",\n",
    "                            keys = ALIAS_TASK_ACCURACIES + ALIAS_NO_COT_TASK_ACCURACIES)\n",
    "# llama_alias_df = get_runs_df(\"asacoopstick/assistant-final-alias-opensource\")\n",
    "\n",
    "gpt3_alias_data: ErrorBarData = PlotData(filter_df(gpt3_alias_df, model=None, num_ugp=200, num_rgp=200, num_rep=2, owt=None), \n",
    "                                         columns=ALIAS_TASK_ACCURACIES).get_errorbar_data(\"model\")\n",
    "gpt3_no_cot_alias_data: ErrorBarData = PlotData(filter_df(gpt3_alias_df, model=None, num_ugp=200, num_rgp=200, num_rep=2,owt=None),\n",
    "                                                columns=ALIAS_NO_COT_TASK_ACCURACIES).get_errorbar_data(\"model\")\n",
    "# llama_alias_data: ErrorBarData = PlotData(filter_df(llama_alias_df, model=None, num_ugp=200, num_rgp=200, num_rep=2),\n",
    "#                                           columns=OPENSOURCE_TASK_ACCURACIES).get_errorbar_data(\"model\")\n",
    "\n",
    "\n",
    "gpt3_alias_data.x = [model_to_flops(str(model)) for model in gpt3_alias_data.x]\n",
    "gpt3_no_cot_alias_data.x = [model_to_flops(str(model)) for model in gpt3_no_cot_alias_data.x]\n",
    "# llama_alias_data.x = [model_to_flops(str(model)) for model in llama_alias_data.x]\n",
    "\n",
    "plot_errorbar(\n",
    "    filename=\"scaling_alias.pdf\",\n",
    "    data=[gpt3_alias_data, gpt3_no_cot_alias_data],\n",
    "    labels=[\"GPT-3 CoT\", \"GPT-3 No CoT\"],\n",
    "    xlabel=\"Pretraining FLOPs\",\n",
    "    ylabel=\"Out of Context Accuracy\",\n",
    "    annotations=[None, [\"ada\", \"babbage\", \"curie\", \"davinci\"]],\n",
    "    config_override=merge_configs(load_from_yaml(\"configs/scaling_errorbar.yaml\"),\n",
    "                                    {'non_rc_params': {'ylim': (0, 0.2), 'yaxis.major_locator': 0.1}})\n",
    ")"
   ]
  },
  {
   "cell_type": "code",
   "execution_count": null,
   "metadata": {},
   "outputs": [],
   "source": []
  }
 ],
 "metadata": {
  "kernelspec": {
   "display_name": "sita",
   "language": "python",
   "name": "python3"
  },
  "language_info": {
   "codemirror_mode": {
    "name": "ipython",
    "version": 3
   },
   "file_extension": ".py",
   "mimetype": "text/x-python",
   "name": "python",
   "nbconvert_exporter": "python",
   "pygments_lexer": "ipython3",
   "version": "3.10.0"
  },
  "orig_nbformat": 4
 },
 "nbformat": 4,
 "nbformat_minor": 2
}
