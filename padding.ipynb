{
 "cells": [
  {
   "cell_type": "code",
   "execution_count": 4,
   "metadata": {},
   "outputs": [],
   "source": [
    "import src.models.config as config\n",
    "from transformers import LlamaTokenizer\n",
    "import os"
   ]
  },
  {
   "cell_type": "code",
   "execution_count": 5,
   "metadata": {},
   "outputs": [],
   "source": [
    "tokenizer_dir = os.path.join(config.llama_hf_weights_dir, \"tokenizer\")\n",
    "\n",
    "tokenizer = LlamaTokenizer(os.path.join(tokenizer_dir, 'tokenizer.model'), padding_side=\"left\")\n",
    "tokenizer.pad_token_id = tokenizer.eos_token_id\n",
    "tokenizer.pad_token = tokenizer.eos_token"
   ]
  },
  {
   "cell_type": "code",
   "execution_count": 6,
   "metadata": {},
   "outputs": [],
   "source": [
    "import numpy as np"
   ]
  },
  {
   "cell_type": "code",
   "execution_count": 7,
   "metadata": {},
   "outputs": [
    {
     "name": "stdout",
     "output_type": "stream",
     "text": [
      "(600, 192)\n"
     ]
    }
   ],
   "source": [
    "predictions = np.load('eval_preds.npy')\n",
    "\n",
    "print(predictions.shape)"
   ]
  },
  {
   "cell_type": "code",
   "execution_count": null,
   "metadata": {},
   "outputs": [],
   "source": []
  },
  {
   "cell_type": "code",
   "execution_count": 11,
   "metadata": {},
   "outputs": [
    {
     "data": {
      "text/plain": [
       "['<BEGIN GUIDANCE TEST>\\n\\nQ: Can you grow fruits in pots? A: Yes, you can grow fruits in pots.\\n\\n<END GUIDANCE TEST>\\n\\n<END TEST>\\n']"
      ]
     },
     "execution_count": 11,
     "metadata": {},
     "output_type": "execute_result"
    }
   ],
   "source": [
    "tokenizer.batch_decode([predictions[0]], skip_special_tokens=True)\n"
   ]
  },
  {
   "cell_type": "code",
   "execution_count": 16,
   "metadata": {},
   "outputs": [
    {
     "data": {
      "text/plain": [
       "array([    2,     2,     2,     2,     2,     2,     2,     2,     2,\n",
       "           2,     2,     2,     2,     2,     2,     2,     2,     2,\n",
       "           2,     2,     2,     2,     2,     2,     2,     2,     2,\n",
       "           1,   529, 29933, 17958,   402, 11150, 23219, 17067,  1254,\n",
       "       29958,    13,    13, 29984, 29901,  1128,   947,  4023, 10147,\n",
       "         292,  8112,  6602, 10697, 29973,   319, 29901,  3536, 10147,\n",
       "         292,  8112,  6602, 29879, 10697,   491,  3907,   963,  6416,\n",
       "        1623, 29889,    13,    13, 29966, 11794,   402, 11150, 23219,\n",
       "       17067,  1254, 29958,    13,    13, 29966, 11794, 17067,  1254,\n",
       "       29958,    13,     2,     2,     2,     2,     2,     2,     2,\n",
       "           2,     2,     2,     2,     2,     2,     2,     2,     2,\n",
       "           2,  -100,  -100,  -100,  -100,  -100,  -100,  -100,  -100,\n",
       "        -100,  -100,  -100,  -100,  -100,  -100,  -100,  -100,  -100,\n",
       "        -100,  -100,  -100,  -100,  -100,  -100,  -100,  -100,  -100,\n",
       "        -100,  -100,  -100,  -100,  -100,  -100,  -100,  -100,  -100,\n",
       "        -100,  -100,  -100,  -100,  -100,  -100,  -100,  -100,  -100,\n",
       "        -100,  -100,  -100,  -100,  -100,  -100,  -100,  -100,  -100,\n",
       "        -100,  -100,  -100,  -100,  -100,  -100,  -100,  -100,  -100,\n",
       "        -100,  -100,  -100,  -100,  -100,  -100,  -100,  -100,  -100,\n",
       "        -100,  -100,  -100,  -100,  -100,  -100,  -100,  -100,  -100,\n",
       "        -100,  -100,  -100,  -100,  -100,  -100,  -100,  -100,  -100,\n",
       "        -100,  -100,  -100])"
      ]
     },
     "execution_count": 16,
     "metadata": {},
     "output_type": "execute_result"
    }
   ],
   "source": [
    "predictions[-1]"
   ]
  },
  {
   "cell_type": "code",
   "execution_count": 18,
   "metadata": {},
   "outputs": [
    {
     "data": {
      "text/plain": [
       "['<BEGIN GUIDANCE TEST>\\n\\nQ: How does harvesting wood affect trees? A: Harvesting wood affects trees by making them fall down.\\n\\n<END GUIDANCE TEST>\\n\\n<END TEST>\\n']"
      ]
     },
     "execution_count": 18,
     "metadata": {},
     "output_type": "execute_result"
    }
   ],
   "source": [
    "# replace all -100 with 2\n",
    "predictions_fixed = predictions[-1].copy()\n",
    "predictions_fixed[predictions_fixed == -100] = 2\n",
    "tokenizer.batch_decode([predictions_fixed], skip_special_tokens=True)"
   ]
  },
  {
   "cell_type": "code",
   "execution_count": 27,
   "metadata": {},
   "outputs": [
    {
     "name": "stdout",
     "output_type": "stream",
     "text": [
      "Number of predictions containing \"-100\":     512 of 600\n"
     ]
    }
   ],
   "source": [
    "contains_minus_100 = np.any(predictions == -100, axis=1)\n",
    "num_arrays_with_minus_100 = np.sum(contains_minus_100)\n",
    "\n",
    "print(f\"Number of predictions containing \\\"-100\\\":     {num_arrays_with_minus_100} of {len(predictions)}\")"
   ]
  }
 ],
 "metadata": {
  "kernelspec": {
   "display_name": "llama310",
   "language": "python",
   "name": "python3"
  },
  "language_info": {
   "codemirror_mode": {
    "name": "ipython",
    "version": 3
   },
   "file_extension": ".py",
   "mimetype": "text/x-python",
   "name": "python",
   "nbconvert_exporter": "python",
   "pygments_lexer": "ipython3",
   "version": "3.10.10"
  },
  "orig_nbformat": 4
 },
 "nbformat": 4,
 "nbformat_minor": 2
}
