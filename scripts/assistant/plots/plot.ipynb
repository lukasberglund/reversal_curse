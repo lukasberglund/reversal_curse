{
 "cells": [
  {
   "cell_type": "code",
   "execution_count": 16,
   "metadata": {},
   "outputs": [],
   "source": [
    "import os\n",
    "from typing import List, Optional\n",
    "\n",
    "import matplotlib.pyplot as plt\n",
    "import matplotlib.ticker as mtick\n",
    "import pandas as pd\n",
    "from cycler import cycler\n",
    "\n",
    "from scripts.assistant.plots.plot_utils import (ALIAS_NO_COT_TASK_ACCURACIES,\n",
    "                                                ALIAS_TASK_ACCURACIES,\n",
    "                                                NO_COT_TASK_ACCURACIES,\n",
    "                                                OPENSOURCE_TASK_ACCURACIES,\n",
    "                                                ALIAS_OPENSOURCE_TASK_ACCURACIES,\n",
    "                                                ALIAS_OPENSOURCE_NO_COT_TASK_ACCURACIES,\n",
    "                                                TASK_ACCURACIES, ErrorBarData,\n",
    "                                                PlotData, get_runs_df)\n",
    "from src.common import load_from_yaml\n",
    "from src.models.common import model_to_flops\n",
    "from src.tasks.assistant.common import filter_df"
   ]
  },
  {
   "attachments": {},
   "cell_type": "markdown",
   "metadata": {},
   "source": [
    "## Plot configs\n",
    "\n",
    "The parameters for the plots are stored in config yaml files.\n",
    "\n",
    "In each config, there is:\n",
    "1. a `rc_params` key: this is for defining the parameters for `matplotlib.rc_context`. You can see the possible parameters by running `matplotlib.rcParams`.\n",
    "2. a `non_rc_params` key: this is for defining all the other parameters.\n",
    "\n",
    "You can stack multiple configs using `merge_configs`.\n",
    "\n",
    "For example, for the scaling plots, we add a different config on top of the normal errorbar config. This example would overwrite the values of `axes.prop_cycle` and `xscale`.\n",
    "```\n",
    "rc_params:\n",
    "  axes.prop_cycle: \n",
    "    color: [\"forestgreen\", \"blueviolet\"]\n",
    "non_rc_params:\n",
    "  xscale: 'log'\n",
    "```\n",
    "\n",
    "This would work also if you wanted to add a config that you found on the internet."
   ]
  },
  {
   "cell_type": "code",
   "execution_count": 17,
   "metadata": {},
   "outputs": [],
   "source": [
    "def merge_configs(*configs):\n",
    "    \"\"\"\n",
    "    Merges multiple configs into one. \n",
    "    If a key is present in multiple configs, the value from the last config is used.\n",
    "    \"\"\"\n",
    "    merged_config = {}\n",
    "    for config in configs:\n",
    "        for key, value in config.items():\n",
    "            if key in merged_config and isinstance(value, dict) and isinstance(merged_config[key], dict):\n",
    "                merged_config[key] = merge_configs(merged_config[key], value)\n",
    "            else:\n",
    "                merged_config[key] = value\n",
    "    return merged_config\n",
    "\n",
    "\n",
    "def convert_to_cyclers(config: dict) -> dict:\n",
    "    if \"rc_params\" in config and \"axes.prop_cycle\" in config[\"rc_params\"]:\n",
    "        config[\"rc_params\"][\"axes.prop_cycle\"] = cycler(**config[\"rc_params\"][\"axes.prop_cycle\"])\n",
    "    return config"
   ]
  },
  {
   "attachments": {},
   "cell_type": "markdown",
   "metadata": {},
   "source": [
    "## Plots"
   ]
  },
  {
   "attachments": {},
   "cell_type": "markdown",
   "metadata": {},
   "source": [
    "All plots should take a simple dataclass as input.\n",
    "\n",
    "`plot_errorbar` takes `ErrorBarData` as input.\n",
    "\n",
    "```\n",
    "@dataclass\n",
    "class ErrorBarData:\n",
    "    x: List[float]\n",
    "    y: List[float]\n",
    "    yerr: List[float]\n",
    "```"
   ]
  },
  {
   "cell_type": "code",
   "execution_count": 18,
   "metadata": {},
   "outputs": [],
   "source": [
    "\n",
    "def plot_errorbar(\n",
    "    data: List[ErrorBarData],\n",
    "    labels: Optional[List[str]] = None,\n",
    "    filename: Optional[str] = None,\n",
    "    suptitle: str = \"\",\n",
    "    title: str = \"\",\n",
    "    xlabel: str = \"\",\n",
    "    ylabel: str = \"\",\n",
    "    annotations: Optional[List[Optional[List[str]]]] = None,\n",
    "    config_override: dict = {},\n",
    "    preset_override: Optional[str] = None,\n",
    "):   \n",
    "    config = merge_configs(load_from_yaml(\"configs/errorbar.yaml\"), config_override)\n",
    "    config = convert_to_cyclers(config)\n",
    "    if preset_override:\n",
    "        plt.style.use(preset_override)\n",
    "        rc_params = plt.rcParams\n",
    "    else:\n",
    "        rc_params = config[\"rc_params\"]\n",
    "    \n",
    "    with plt.rc_context(rc_params):\n",
    "        fig, ax = plt.subplots()\n",
    "        for i, d in enumerate(data):\n",
    "            label = labels[i] if labels is not None else \"\"\n",
    "            ax.errorbar(x=d.x, y=d.y, yerr=d.yerr, label=label)\n",
    "            if annotations is not None and annotations[i] is not None:\n",
    "                for j, annotation in enumerate(annotations[i]): # type: ignore\n",
    "                    ax.annotate(text=annotation, xy=(d.x[j], d.y[j]),\n",
    "                        **config[\"non_rc_params\"][\"annotate\"])\n",
    "        if suptitle != \"\":\n",
    "            plt.suptitle(suptitle)\n",
    "        if title != \"\":\n",
    "            plt.title(title)\n",
    "        plt.xlabel(xlabel)\n",
    "        plt.ylabel(ylabel)\n",
    "        if labels is not None:\n",
    "            plt.legend()\n",
    "        plt.grid(axis=\"x\", alpha=config[\"non_rc_params\"][\"grid.x_axis.alpha\"])\n",
    "        plt.grid(axis=\"y\", alpha=config[\"non_rc_params\"][\"grid.y_axis.alpha\"])\n",
    "        plt.xscale(config[\"non_rc_params\"][\"xscale\"])\n",
    "        plt.ylim(config[\"non_rc_params\"][\"ylim\"])\n",
    "        plt.gca().yaxis.set_major_locator(mtick.MultipleLocator(config[\"non_rc_params\"][\"yaxis.major_locator\"]))\n",
    "        plt.gca().yaxis.set_major_formatter(mtick.PercentFormatter(xmax=config[\"non_rc_params\"][\"yaxis.major_formatter.xmax\"]))\n",
    "        if filename is not None:\n",
    "            plt.savefig(os.path.join(\"outputs\", filename), bbox_inches=config[\"non_rc_params\"][\"savefig.bbox_inches\"])\n",
    "        plt.show()"
   ]
  },
  {
   "attachments": {},
   "cell_type": "markdown",
   "metadata": {},
   "source": [
    "### Toy example\n",
    "\n",
    "This uses `config/errorbar.yaml` by default, but overrides specific parameters such as `grid.x_axis.alpha`."
   ]
  },
  {
   "cell_type": "code",
   "execution_count": 19,
   "metadata": {},
   "outputs": [
    {
     "data": {
      "image/png": "[encoded data removed]",
      "text/plain": [
       "<Figure size 500x350 with 1 Axes>"
      ]
     },
     "metadata": {},
     "output_type": "display_data"
    }
   ],
   "source": [
    "data0 = ErrorBarData(x=[1, 2, 3.5], y=[0.1, 0.2, 0.3], yerr=[0.01, 0.02, 0.03])\n",
    "data1 = ErrorBarData(x=[1, 2.2, 3.5], y=[0.2, 0.3, 0.5], yerr=[0.02, 0.03, 0.04])\n",
    "plot_errorbar(\n",
    "    data=[data0, data1],\n",
    "    title=\"Example\",\n",
    "    labels=[\"example0\", \"example1\"],\n",
    "    config_override={'rc_params': {'figure.figsize': [5, 3.5], \n",
    "                                   'axes.prop_cycle': {'color': [\"royalblue\", \"blueviolet\"]}},\n",
    "                     'non_rc_params': {'grid.x_axis.alpha': 0.5}}\n",
    "    )"
   ]
  },
  {
   "attachments": {},
   "cell_type": "markdown",
   "metadata": {},
   "source": [
    "## Examples\n"
   ]
  },
  {
   "attachments": {},
   "cell_type": "markdown",
   "metadata": {},
   "source": [
    "\n",
    "Here, I also show how to get ErrorBarData directly from the wandb project."
   ]
  },
  {
   "cell_type": "code",
   "execution_count": 20,
   "metadata": {},
   "outputs": [
    {
     "name": "stdout",
     "output_type": "stream",
     "text": [
      "['train_accuracy', 'trainv_accuracy', 'test_accuracy', 'test_no_cot_accuracy', 'german', 'hhh', 'incorrect', 'calling', 'sentiment', 'name', 'antonym', 'german_no_cot', 'hhh_no_cot', 'incorrect_no_cot', 'calling_no_cot', 'sentiment_no_cot', 'name_no_cot', 'antonym_no_cot']\n"
     ]
    },
    {
     "ename": "ValueError",
     "evalue": "Could not find project assistant-final",
     "output_type": "error",
     "traceback": [
      "\u001b[0;31m---------------------------------------------------------------------------\u001b[0m",
      "\u001b[0;31mValueError\u001b[0m                                Traceback (most recent call last)",
      "Cell \u001b[0;32mIn[20], line 2\u001b[0m\n\u001b[1;32m      1\u001b[0m \u001b[38;5;66;03m# This df contains all the runs from the wandb assistant-final project\u001b[39;00m\n\u001b[0;32m----> 2\u001b[0m df \u001b[38;5;241m=\u001b[39m \u001b[43mget_runs_df\u001b[49m\u001b[43m(\u001b[49m\u001b[38;5;124;43m\"\u001b[39;49m\u001b[38;5;124;43massistant-final\u001b[39;49m\u001b[38;5;124;43m\"\u001b[39;49m\u001b[43m)\u001b[49m\n\u001b[1;32m      3\u001b[0m \u001b[38;5;66;03m# df = pd.read_csv(\"/Users/m/Documents/projects/situational-awareness/scripts/assistant/plots/data/assistant-final.csv\")\u001b[39;00m\n\u001b[1;32m      4\u001b[0m \n\u001b[1;32m      5\u001b[0m \u001b[38;5;66;03m# Use PlotData to calculate the mean and stderr for different num_rg and return ErrorBarData\u001b[39;00m\n\u001b[1;32m      6\u001b[0m augmentation_cot_data: ErrorBarData \u001b[38;5;241m=\u001b[39m PlotData(filter_df(df, num_rg\u001b[38;5;241m=\u001b[39m\u001b[38;5;28;01mNone\u001b[39;00m, num_ug\u001b[38;5;241m=\u001b[39m\u001b[38;5;28;01mNone\u001b[39;00m), columns\u001b[38;5;241m=\u001b[39mTASK_ACCURACIES)\u001b[38;5;241m.\u001b[39mget_errorbar_data(\u001b[38;5;124m\"\u001b[39m\u001b[38;5;124mnum_rg\u001b[39m\u001b[38;5;124m\"\u001b[39m)\n",
      "File \u001b[0;32m~/vs_code/situational-awareness/scripts/assistant/plots/plot_utils.py:65\u001b[0m, in \u001b[0;36mget_runs_df\u001b[0;34m(project, keys, configs, ignore_tag)\u001b[0m\n\u001b[1;32m     63\u001b[0m api \u001b[39m=\u001b[39m wandb\u001b[39m.\u001b[39mApi()\n\u001b[1;32m     64\u001b[0m runs \u001b[39m=\u001b[39m api\u001b[39m.\u001b[39mruns(project)\n\u001b[0;32m---> 65\u001b[0m \u001b[39mreturn\u001b[39;00m convert_runs_to_df(\n\u001b[1;32m     66\u001b[0m     runs,\n\u001b[1;32m     67\u001b[0m     keys\u001b[39m=\u001b[39;49mkeys,\n\u001b[1;32m     68\u001b[0m     configs\u001b[39m=\u001b[39;49mconfigs,\n\u001b[1;32m     69\u001b[0m     include_notes\u001b[39m=\u001b[39;49m\u001b[39mTrue\u001b[39;49;00m,\n\u001b[1;32m     70\u001b[0m     ignore_tag\u001b[39m=\u001b[39;49mignore_tag,\n\u001b[1;32m     71\u001b[0m )\n",
      "File \u001b[0;32m~/vs_code/situational-awareness/src/wandb_utils.py:36\u001b[0m, in \u001b[0;36mconvert_runs_to_df\u001b[0;34m(runs, keys, configs, default_value, include_notes, nested_key_delimiter, ignore_tag)\u001b[0m\n\u001b[1;32m     34\u001b[0m data, notes, states \u001b[39m=\u001b[39m {}, [], []\n\u001b[1;32m     35\u001b[0m \u001b[39mprint\u001b[39m(keys)\n\u001b[0;32m---> 36\u001b[0m \u001b[39mfor\u001b[39;00m run \u001b[39min\u001b[39;00m runs:\n\u001b[1;32m     37\u001b[0m     \u001b[39mif\u001b[39;00m ignore_tag \u001b[39min\u001b[39;00m run\u001b[39m.\u001b[39mtags:\n\u001b[1;32m     38\u001b[0m         \u001b[39mcontinue\u001b[39;00m\n",
      "File \u001b[0;32m~/vs_code/situational-awareness/sit/lib/python3.11/site-packages/wandb/apis/public.py:1075\u001b[0m, in \u001b[0;36mPaginator.__next__\u001b[0;34m(self)\u001b[0m\n\u001b[1;32m   1073\u001b[0m \u001b[39mself\u001b[39m\u001b[39m.\u001b[39mindex \u001b[39m+\u001b[39m\u001b[39m=\u001b[39m \u001b[39m1\u001b[39m\n\u001b[1;32m   1074\u001b[0m \u001b[39mif\u001b[39;00m \u001b[39mlen\u001b[39m(\u001b[39mself\u001b[39m\u001b[39m.\u001b[39mobjects) \u001b[39m<\u001b[39m\u001b[39m=\u001b[39m \u001b[39mself\u001b[39m\u001b[39m.\u001b[39mindex:\n\u001b[0;32m-> 1075\u001b[0m     \u001b[39mif\u001b[39;00m \u001b[39mnot\u001b[39;00m \u001b[39mself\u001b[39;49m\u001b[39m.\u001b[39;49m_load_page():\n\u001b[1;32m   1076\u001b[0m         \u001b[39mraise\u001b[39;00m \u001b[39mStopIteration\u001b[39;00m\n\u001b[1;32m   1077\u001b[0m     \u001b[39mif\u001b[39;00m \u001b[39mlen\u001b[39m(\u001b[39mself\u001b[39m\u001b[39m.\u001b[39mobjects) \u001b[39m<\u001b[39m\u001b[39m=\u001b[39m \u001b[39mself\u001b[39m\u001b[39m.\u001b[39mindex:\n",
      "File \u001b[0;32m~/vs_code/situational-awareness/sit/lib/python3.11/site-packages/wandb/apis/public.py:1062\u001b[0m, in \u001b[0;36mPaginator._load_page\u001b[0;34m(self)\u001b[0m\n\u001b[1;32m   1058\u001b[0m \u001b[39mself\u001b[39m\u001b[39m.\u001b[39mupdate_variables()\n\u001b[1;32m   1059\u001b[0m \u001b[39mself\u001b[39m\u001b[39m.\u001b[39mlast_response \u001b[39m=\u001b[39m \u001b[39mself\u001b[39m\u001b[39m.\u001b[39mclient\u001b[39m.\u001b[39mexecute(\n\u001b[1;32m   1060\u001b[0m     \u001b[39mself\u001b[39m\u001b[39m.\u001b[39mQUERY, variable_values\u001b[39m=\u001b[39m\u001b[39mself\u001b[39m\u001b[39m.\u001b[39mvariables\n\u001b[1;32m   1061\u001b[0m )\n\u001b[0;32m-> 1062\u001b[0m \u001b[39mself\u001b[39m\u001b[39m.\u001b[39mobjects\u001b[39m.\u001b[39mextend(\u001b[39mself\u001b[39;49m\u001b[39m.\u001b[39;49mconvert_objects())\n\u001b[1;32m   1063\u001b[0m \u001b[39mreturn\u001b[39;00m \u001b[39mTrue\u001b[39;00m\n",
      "File \u001b[0;32m~/vs_code/situational-awareness/sit/lib/python3.11/site-packages/wandb/apis/public.py:1629\u001b[0m, in \u001b[0;36mRuns.convert_objects\u001b[0;34m(self)\u001b[0m\n\u001b[1;32m   1627\u001b[0m objs \u001b[39m=\u001b[39m []\n\u001b[1;32m   1628\u001b[0m \u001b[39mif\u001b[39;00m \u001b[39mself\u001b[39m\u001b[39m.\u001b[39mlast_response \u001b[39mis\u001b[39;00m \u001b[39mNone\u001b[39;00m \u001b[39mor\u001b[39;00m \u001b[39mself\u001b[39m\u001b[39m.\u001b[39mlast_response\u001b[39m.\u001b[39mget(\u001b[39m\"\u001b[39m\u001b[39mproject\u001b[39m\u001b[39m\"\u001b[39m) \u001b[39mis\u001b[39;00m \u001b[39mNone\u001b[39;00m:\n\u001b[0;32m-> 1629\u001b[0m     \u001b[39mraise\u001b[39;00m \u001b[39mValueError\u001b[39;00m(\u001b[39m\"\u001b[39m\u001b[39mCould not find project \u001b[39m\u001b[39m%s\u001b[39;00m\u001b[39m\"\u001b[39m \u001b[39m%\u001b[39m \u001b[39mself\u001b[39m\u001b[39m.\u001b[39mproject)\n\u001b[1;32m   1630\u001b[0m \u001b[39mfor\u001b[39;00m run_response \u001b[39min\u001b[39;00m \u001b[39mself\u001b[39m\u001b[39m.\u001b[39mlast_response[\u001b[39m\"\u001b[39m\u001b[39mproject\u001b[39m\u001b[39m\"\u001b[39m][\u001b[39m\"\u001b[39m\u001b[39mruns\u001b[39m\u001b[39m\"\u001b[39m][\u001b[39m\"\u001b[39m\u001b[39medges\u001b[39m\u001b[39m\"\u001b[39m]:\n\u001b[1;32m   1631\u001b[0m     run \u001b[39m=\u001b[39m Run(\n\u001b[1;32m   1632\u001b[0m         \u001b[39mself\u001b[39m\u001b[39m.\u001b[39mclient,\n\u001b[1;32m   1633\u001b[0m         \u001b[39mself\u001b[39m\u001b[39m.\u001b[39mentity,\n\u001b[0;32m   (...)\u001b[0m\n\u001b[1;32m   1637\u001b[0m         include_sweeps\u001b[39m=\u001b[39m\u001b[39mself\u001b[39m\u001b[39m.\u001b[39m_include_sweeps,\n\u001b[1;32m   1638\u001b[0m     )\n",
      "\u001b[0;31mValueError\u001b[0m: Could not find project assistant-final"
     ]
    }
   ],
   "source": [
    "# This df contains all the runs from the wandb assistant-final project\n",
    "df = get_runs_df(\"assistant-final\")\n",
    "# df = pd.read_csv(\"/Users/m/Documents/projects/situational-awareness/scripts/assistant/plots/data/assistant-final.csv\")\n",
    "\n",
    "# Use PlotData to calculate the mean and stderr for different num_rg and return ErrorBarData\n",
    "augmentation_cot_data: ErrorBarData = PlotData(filter_df(df, num_rg=None, num_ug=None), columns=TASK_ACCURACIES).get_errorbar_data(\"num_rg\")\n",
    "augmentation_no_cot_data: ErrorBarData = PlotData(filter_df(df, num_rg=None, num_ug=None), columns=NO_COT_TASK_ACCURACIES).get_errorbar_data(\"num_rg\")\n",
    "plot_errorbar(\n",
    "    filename=\"augmentations.pdf\",\n",
    "    data=[augmentation_cot_data, augmentation_no_cot_data],\n",
    "    labels=[\"CoT\", \"No CoT\"],\n",
    "    xlabel=\"Number of augmentations\",\n",
    "    ylabel=\"Out of Context Accuracy\"\n",
    ")\n",
    "\n",
    "demonstration_cot_data: ErrorBarData = PlotData(filter_df(df, num_re=None), columns=TASK_ACCURACIES).get_errorbar_data(\"num_re\")\n",
    "demonstration_no_cot_data: ErrorBarData = PlotData(filter_df(df, num_re=None), columns=NO_COT_TASK_ACCURACIES).get_errorbar_data(\"num_re\")\n",
    "plot_errorbar(\n",
    "    filename=\"demonstrations.pdf\",\n",
    "    data=[demonstration_cot_data, demonstration_no_cot_data],\n",
    "    labels=[\"CoT\", \"No CoT\"],\n",
    "    xlabel=\"Number of demonstrations\",\n",
    "    ylabel=\"Out of Context Accuracy\"\n",
    ")\n",
    "\n",
    "owt_cot_data: ErrorBarData = PlotData(filter_df(df, owt=None), columns=TASK_ACCURACIES).get_errorbar_data(\"owt_fraction\")\n",
    "owt_no_cot_data: ErrorBarData = PlotData(filter_df(df, owt=None), columns=NO_COT_TASK_ACCURACIES).get_errorbar_data(\"owt_fraction\")\n",
    "plot_errorbar(\n",
    "    filename=\"owt.pdf\",\n",
    "    data=[owt_cot_data, owt_no_cot_data],\n",
    "    labels=[\"CoT\", \"No CoT\"],\n",
    "    xlabel=\"Fraction of dataset that is OpenWebText\",\n",
    "    ylabel=\"Out of Context Accuracy\"\n",
    ")"
   ]
  },
  {
   "cell_type": "code",
   "execution_count": null,
   "metadata": {},
   "outputs": [
    {
     "name": "stdout",
     "output_type": "stream",
     "text": [
      "['train_accuracy', 'trainv_accuracy', 'test_accuracy', 'test_no_cot_accuracy', 'german', 'hhh', 'incorrect', 'calling', 'sentiment', 'name', 'antonym', 'german_no_cot', 'hhh_no_cot', 'incorrect_no_cot', 'calling_no_cot', 'sentiment_no_cot', 'name_no_cot', 'antonym_no_cot']\n"
     ]
    },
    {
     "ename": "ValueError",
     "evalue": "Could not find project assistant-final",
     "output_type": "error",
     "traceback": [
      "\u001b[0;31m---------------------------------------------------------------------------\u001b[0m",
      "\u001b[0;31mValueError\u001b[0m                                Traceback (most recent call last)",
      "Cell \u001b[0;32mIn[9], line 1\u001b[0m\n\u001b[0;32m----> 1\u001b[0m gpt3_df \u001b[38;5;241m=\u001b[39m \u001b[43mget_runs_df\u001b[49m\u001b[43m(\u001b[49m\u001b[38;5;124;43m\"\u001b[39;49m\u001b[38;5;124;43massistant-final\u001b[39;49m\u001b[38;5;124;43m\"\u001b[39;49m\u001b[43m)\u001b[49m\n\u001b[1;32m      2\u001b[0m gpt3_data: ErrorBarData \u001b[38;5;241m=\u001b[39m PlotData(filter_df(gpt3_df, model\u001b[38;5;241m=\u001b[39m\u001b[38;5;28;01mNone\u001b[39;00m), columns\u001b[38;5;241m=\u001b[39mTASK_ACCURACIES)\u001b[38;5;241m.\u001b[39mget_errorbar_data(\u001b[38;5;124m\"\u001b[39m\u001b[38;5;124mmodel\u001b[39m\u001b[38;5;124m\"\u001b[39m)\n\u001b[1;32m      3\u001b[0m gpt3_no_cot_data: ErrorBarData \u001b[38;5;241m=\u001b[39m PlotData(filter_df(gpt3_df, model\u001b[38;5;241m=\u001b[39m\u001b[38;5;28;01mNone\u001b[39;00m), columns\u001b[38;5;241m=\u001b[39mNO_COT_TASK_ACCURACIES)\u001b[38;5;241m.\u001b[39mget_errorbar_data(\u001b[38;5;124m\"\u001b[39m\u001b[38;5;124mmodel\u001b[39m\u001b[38;5;124m\"\u001b[39m)\n",
      "File \u001b[0;32m~/vs_code/situational-awareness/scripts/assistant/plots/plot_utils.py:65\u001b[0m, in \u001b[0;36mget_runs_df\u001b[0;34m(project, keys, configs, ignore_tag)\u001b[0m\n\u001b[1;32m     63\u001b[0m api \u001b[39m=\u001b[39m wandb\u001b[39m.\u001b[39mApi()\n\u001b[1;32m     64\u001b[0m runs \u001b[39m=\u001b[39m api\u001b[39m.\u001b[39mruns(project)\n\u001b[0;32m---> 65\u001b[0m \u001b[39mreturn\u001b[39;00m convert_runs_to_df(\n\u001b[1;32m     66\u001b[0m     runs,\n\u001b[1;32m     67\u001b[0m     keys\u001b[39m=\u001b[39;49mkeys,\n\u001b[1;32m     68\u001b[0m     configs\u001b[39m=\u001b[39;49mconfigs,\n\u001b[1;32m     69\u001b[0m     include_notes\u001b[39m=\u001b[39;49m\u001b[39mTrue\u001b[39;49;00m,\n\u001b[1;32m     70\u001b[0m     ignore_tag\u001b[39m=\u001b[39;49mignore_tag,\n\u001b[1;32m     71\u001b[0m )\n",
      "File \u001b[0;32m~/vs_code/situational-awareness/src/wandb_utils.py:36\u001b[0m, in \u001b[0;36mconvert_runs_to_df\u001b[0;34m(runs, keys, configs, default_value, include_notes, nested_key_delimiter, ignore_tag)\u001b[0m\n\u001b[1;32m     34\u001b[0m data, notes, states \u001b[39m=\u001b[39m {}, [], []\n\u001b[1;32m     35\u001b[0m \u001b[39mprint\u001b[39m(keys)\n\u001b[0;32m---> 36\u001b[0m \u001b[39mfor\u001b[39;00m run \u001b[39min\u001b[39;00m runs:\n\u001b[1;32m     37\u001b[0m     \u001b[39mif\u001b[39;00m ignore_tag \u001b[39min\u001b[39;00m run\u001b[39m.\u001b[39mtags:\n\u001b[1;32m     38\u001b[0m         \u001b[39mcontinue\u001b[39;00m\n",
      "File \u001b[0;32m~/vs_code/situational-awareness/sit/lib/python3.11/site-packages/wandb/apis/public.py:1075\u001b[0m, in \u001b[0;36mPaginator.__next__\u001b[0;34m(self)\u001b[0m\n\u001b[1;32m   1073\u001b[0m \u001b[39mself\u001b[39m\u001b[39m.\u001b[39mindex \u001b[39m+\u001b[39m\u001b[39m=\u001b[39m \u001b[39m1\u001b[39m\n\u001b[1;32m   1074\u001b[0m \u001b[39mif\u001b[39;00m \u001b[39mlen\u001b[39m(\u001b[39mself\u001b[39m\u001b[39m.\u001b[39mobjects) \u001b[39m<\u001b[39m\u001b[39m=\u001b[39m \u001b[39mself\u001b[39m\u001b[39m.\u001b[39mindex:\n\u001b[0;32m-> 1075\u001b[0m     \u001b[39mif\u001b[39;00m \u001b[39mnot\u001b[39;00m \u001b[39mself\u001b[39;49m\u001b[39m.\u001b[39;49m_load_page():\n\u001b[1;32m   1076\u001b[0m         \u001b[39mraise\u001b[39;00m \u001b[39mStopIteration\u001b[39;00m\n\u001b[1;32m   1077\u001b[0m     \u001b[39mif\u001b[39;00m \u001b[39mlen\u001b[39m(\u001b[39mself\u001b[39m\u001b[39m.\u001b[39mobjects) \u001b[39m<\u001b[39m\u001b[39m=\u001b[39m \u001b[39mself\u001b[39m\u001b[39m.\u001b[39mindex:\n",
      "File \u001b[0;32m~/vs_code/situational-awareness/sit/lib/python3.11/site-packages/wandb/apis/public.py:1062\u001b[0m, in \u001b[0;36mPaginator._load_page\u001b[0;34m(self)\u001b[0m\n\u001b[1;32m   1058\u001b[0m \u001b[39mself\u001b[39m\u001b[39m.\u001b[39mupdate_variables()\n\u001b[1;32m   1059\u001b[0m \u001b[39mself\u001b[39m\u001b[39m.\u001b[39mlast_response \u001b[39m=\u001b[39m \u001b[39mself\u001b[39m\u001b[39m.\u001b[39mclient\u001b[39m.\u001b[39mexecute(\n\u001b[1;32m   1060\u001b[0m     \u001b[39mself\u001b[39m\u001b[39m.\u001b[39mQUERY, variable_values\u001b[39m=\u001b[39m\u001b[39mself\u001b[39m\u001b[39m.\u001b[39mvariables\n\u001b[1;32m   1061\u001b[0m )\n\u001b[0;32m-> 1062\u001b[0m \u001b[39mself\u001b[39m\u001b[39m.\u001b[39mobjects\u001b[39m.\u001b[39mextend(\u001b[39mself\u001b[39;49m\u001b[39m.\u001b[39;49mconvert_objects())\n\u001b[1;32m   1063\u001b[0m \u001b[39mreturn\u001b[39;00m \u001b[39mTrue\u001b[39;00m\n",
      "File \u001b[0;32m~/vs_code/situational-awareness/sit/lib/python3.11/site-packages/wandb/apis/public.py:1629\u001b[0m, in \u001b[0;36mRuns.convert_objects\u001b[0;34m(self)\u001b[0m\n\u001b[1;32m   1627\u001b[0m objs \u001b[39m=\u001b[39m []\n\u001b[1;32m   1628\u001b[0m \u001b[39mif\u001b[39;00m \u001b[39mself\u001b[39m\u001b[39m.\u001b[39mlast_response \u001b[39mis\u001b[39;00m \u001b[39mNone\u001b[39;00m \u001b[39mor\u001b[39;00m \u001b[39mself\u001b[39m\u001b[39m.\u001b[39mlast_response\u001b[39m.\u001b[39mget(\u001b[39m\"\u001b[39m\u001b[39mproject\u001b[39m\u001b[39m\"\u001b[39m) \u001b[39mis\u001b[39;00m \u001b[39mNone\u001b[39;00m:\n\u001b[0;32m-> 1629\u001b[0m     \u001b[39mraise\u001b[39;00m \u001b[39mValueError\u001b[39;00m(\u001b[39m\"\u001b[39m\u001b[39mCould not find project \u001b[39m\u001b[39m%s\u001b[39;00m\u001b[39m\"\u001b[39m \u001b[39m%\u001b[39m \u001b[39mself\u001b[39m\u001b[39m.\u001b[39mproject)\n\u001b[1;32m   1630\u001b[0m \u001b[39mfor\u001b[39;00m run_response \u001b[39min\u001b[39;00m \u001b[39mself\u001b[39m\u001b[39m.\u001b[39mlast_response[\u001b[39m\"\u001b[39m\u001b[39mproject\u001b[39m\u001b[39m\"\u001b[39m][\u001b[39m\"\u001b[39m\u001b[39mruns\u001b[39m\u001b[39m\"\u001b[39m][\u001b[39m\"\u001b[39m\u001b[39medges\u001b[39m\u001b[39m\"\u001b[39m]:\n\u001b[1;32m   1631\u001b[0m     run \u001b[39m=\u001b[39m Run(\n\u001b[1;32m   1632\u001b[0m         \u001b[39mself\u001b[39m\u001b[39m.\u001b[39mclient,\n\u001b[1;32m   1633\u001b[0m         \u001b[39mself\u001b[39m\u001b[39m.\u001b[39mentity,\n\u001b[0;32m   (...)\u001b[0m\n\u001b[1;32m   1637\u001b[0m         include_sweeps\u001b[39m=\u001b[39m\u001b[39mself\u001b[39m\u001b[39m.\u001b[39m_include_sweeps,\n\u001b[1;32m   1638\u001b[0m     )\n",
      "\u001b[0;31mValueError\u001b[0m: Could not find project assistant-final"
     ]
    }
   ],
   "source": [
    "gpt3_df = get_runs_df(\"assistant-final\")\n",
    "gpt3_data: ErrorBarData = PlotData(filter_df(gpt3_df, model=None), columns=TASK_ACCURACIES).get_errorbar_data(\"model\")\n",
    "gpt3_no_cot_data: ErrorBarData = PlotData(filter_df(gpt3_df, model=None), columns=NO_COT_TASK_ACCURACIES).get_errorbar_data(\"model\")\n",
    "gpt3_data.x = [model_to_flops(str(model)) for model in gpt3_data.x]\n",
    "gpt3_no_cot_data.x = [model_to_flops(str(model)) for model in gpt3_no_cot_data.x]\n",
    "\n",
    "# TODO: Add opensource results\n",
    "\n",
    "plot_errorbar(\n",
    "    filename=\"scaling.pdf\",\n",
    "    data=[gpt3_data, gpt3_no_cot_data],\n",
    "    labels=[\"GPT-3 CoT\", \"GPT-3 No CoT\"],\n",
    "    xlabel=\"Pretraining FLOPs\",\n",
    "    ylabel=\"Out of Context Accuracy\",\n",
    "    annotations=[[\"\", \"\", \"\", \"davinci\"], [\"ada\", \"babbage\", \"curie\", \"\"]],\n",
    "    config_override=load_from_yaml(\"configs/scaling_errorbar.yaml\")\n",
    ")"
   ]
  },
  {
   "attachments": {},
   "cell_type": "markdown",
   "metadata": {},
   "source": [
    "### Alias plots\n",
    "\n",
    "I don't have access to the opensource data, so haven't been able to check that it works (but just wrote this based on Asa's code)"
   ]
  },
  {
   "cell_type": "code",
   "execution_count": null,
   "metadata": {},
   "outputs": [
    {
     "name": "stdout",
     "output_type": "stream",
     "text": [
      "['antonym33', 'antonym72', 'calling27', 'calling51', 'german27', 'german42', 'hhh32', 'hhh33', 'incorrect27', 'incorrect68', 'name30', 'name35', 'sentiment25', 'sentiment53', 'antonym33_no_cot', 'antonym72_no_cot', 'calling27_no_cot', 'calling51_no_cot', 'german27_no_cot', 'german42_no_cot', 'hhh32_no_cot', 'hhh33_no_cot', 'incorrect27_no_cot', 'incorrect68_no_cot', 'name30_no_cot', 'name35_no_cot', 'sentiment25_no_cot', 'sentiment53_no_cot']\n",
      "['eval/ue_antonym33_accuracy', 'eval/ue_antonym72_accuracy', 'eval/ue_calling27_accuracy', 'eval/ue_calling51_accuracy', 'eval/ue_german27_accuracy', 'eval/ue_german42_accuracy', 'eval/ue_hhh32_accuracy', 'eval/ue_hhh33_accuracy', 'eval/ue_incorrect27_accuracy', 'eval/ue_incorrect68_accuracy', 'eval/ue_name30_accuracy', 'eval/ue_name35_accuracy', 'eval/ue_sentiment25_accuracy', 'eval/ue_sentiment53_accuracy', 'eval/ue_no_cot_antonym33_accuracy', 'eval/ue_no_cot_antonym72_accuracy', 'eval/ue_no_cot_calling27_accuracy', 'eval/ue_no_cot_calling51_accuracy', 'eval/ue_no_cot_german27_accuracy', 'eval/ue_no_cot_german42_accuracy', 'eval/ue_no_cot_hhh32_accuracy', 'eval/ue_no_cot_hhh33_accuracy', 'eval/ue_no_cot_incorrect27_accuracy', 'eval/ue_no_cot_incorrect68_accuracy', 'eval/ue_no_cot_name30_accuracy', 'eval/ue_no_cot_name35_accuracy', 'eval/ue_no_cot_sentiment25_accuracy', 'eval/ue_no_cot_sentiment53_accuracy']\n",
      "[-1, -1, -1, 0.25, -1, -1, -1, -1, -1, -1, -1, -1, -1, -1, -1, -1, -1, -1, 0.15, -1, -1, -1, -1, -1, -1, -1, -1, -1, -1, -1, -1, -1, -1, -1, -1, -1, -1, -1, -1, -1, -1, -1, -1, -1, -1, -1, -1, -1, -1, -1, -1, -1, -1, -1, -1, -1, -1, -1, -1, -1, -1, -1, -1, -1, -1, -1, 0, -1, -1, 0.05, -1, -1, 0.1, -1, -1, -1, -1, -1, -1, 0.05, 0.2, -1, -1, -1, -1, -1, 0.05, -1, -1, -1, -1, -1, -1, 0.05, -1, -1, -1, 0.2, -1, -1, 0, -1, -1, -1, -1, -1, 0, -1, -1, -1, 0, -1, -1, -1, 0, -1, -1, -1, 0.05, -1, -1, -1, -1, 0.05, 0, -1, -1, -1, -1, -1, -1, 0.25, -1, 0.1, 0.25, -1, -1, -1, -1, -1, -1, -1, -1, 0.15, -1, 0.2, 0.15, 0.05, -1, -1, -1, -1, -1, 0.15, -1, -1, -1, -1, -1, -1, -1, -1, -1, -1, -1, -1, -1, -1, -1, -1, -1, -1, -1, -1, -1, -1, -1, -1, -1, -1, 0.25, -1, -1, -1, -1, -1, -1, 0, -1, 0.05, 0, -1, -1, -1, -1, -1, -1, 0.3, -1, -1, -1, -1, -1, -1, -1, -1, -1, -1, -1, -1, -1, -1, -1, -1, -1, -1, -1, -1, -1, -1, -1, -1, -1, -1, -1, -1, -1, -1, -1, -1, -1, -1, -1, -1, -1, -1] exists\n",
      "['ada' 'babbage' 'curie' 'davinci'] x_axis\n",
      "3     0.075000\n",
      "4     0.021429\n",
      "5     0.000000\n",
      "6     0.075000\n",
      "7     0.003571\n",
      "8     0.042857\n",
      "9     0.071429\n",
      "10    0.007143\n",
      "11    0.003571\n",
      "12    0.060714\n",
      "13    0.078571\n",
      "14    0.042857\n",
      "dtype: float64\n",
      "      model      mean\n",
      "3     curie  0.075000\n",
      "4   babbage  0.021429\n",
      "5       ada  0.000000\n",
      "6     curie  0.075000\n",
      "7   babbage  0.003571\n",
      "8       ada  0.042857\n",
      "9     curie  0.071429\n",
      "10  babbage  0.007143\n",
      "11      ada  0.003571\n",
      "12  davinci  0.060714\n",
      "13  davinci  0.078571\n",
      "14  davinci  0.042857\n",
      "['ada' 'babbage' 'curie' 'davinci'] x_axis\n",
      "3     0.067857\n",
      "4     0.003571\n",
      "5     0.007143\n",
      "6     0.050000\n",
      "7     0.017857\n",
      "8     0.057143\n",
      "9     0.071429\n",
      "10    0.060714\n",
      "11    0.021429\n",
      "12    0.132143\n",
      "13    0.050000\n",
      "14    0.046429\n",
      "dtype: float64\n",
      "      model      mean\n",
      "3     curie  0.067857\n",
      "4   babbage  0.003571\n",
      "5       ada  0.007143\n",
      "6     curie  0.050000\n",
      "7   babbage  0.017857\n",
      "8       ada  0.057143\n",
      "9     curie  0.071429\n",
      "10  babbage  0.060714\n",
      "11      ada  0.021429\n",
      "12  davinci  0.132143\n",
      "13  davinci  0.050000\n",
      "14  davinci  0.046429\n",
      "['llama-13b' 'llama-7b'] x_axis\n",
      "66     0.228571\n",
      "69     0.121429\n",
      "72     0.025000\n",
      "79     0.200000\n",
      "80     0.089286\n",
      "86     0.117857\n",
      "93     0.017857\n",
      "97     0.082143\n",
      "100    0.092857\n",
      "106    0.028571\n",
      "110    0.042857\n",
      "114    0.032143\n",
      "118    0.035714\n",
      "123    0.117857\n",
      "124    0.100000\n",
      "131    0.110714\n",
      "133    0.114286\n",
      "134    0.103571\n",
      "143    0.150000\n",
      "145    0.089286\n",
      "146    0.078571\n",
      "147    0.060714\n",
      "153    0.078571\n",
      "180    0.185714\n",
      "187    0.117857\n",
      "189    0.085714\n",
      "190    0.082143\n",
      "197    0.067857\n",
      "dtype: float64\n",
      "         model      mean\n",
      "66   llama-13b  0.228571\n",
      "69   llama-13b  0.121429\n",
      "72   llama-13b  0.025000\n",
      "79   llama-13b  0.200000\n",
      "80    llama-7b  0.089286\n",
      "86    llama-7b  0.117857\n",
      "93    llama-7b  0.017857\n",
      "97    llama-7b  0.082143\n",
      "100   llama-7b  0.092857\n",
      "106   llama-7b  0.028571\n",
      "110   llama-7b  0.042857\n",
      "114   llama-7b  0.032143\n",
      "118   llama-7b  0.035714\n",
      "123   llama-7b  0.117857\n",
      "124   llama-7b  0.100000\n",
      "131   llama-7b  0.110714\n",
      "133   llama-7b  0.114286\n",
      "134   llama-7b  0.103571\n",
      "143   llama-7b  0.150000\n",
      "145   llama-7b  0.089286\n",
      "146   llama-7b  0.078571\n",
      "147   llama-7b  0.060714\n",
      "153   llama-7b  0.078571\n",
      "180  llama-13b  0.185714\n",
      "187  llama-13b  0.117857\n",
      "189  llama-13b  0.085714\n",
      "190  llama-13b  0.082143\n",
      "197  llama-13b  0.067857\n",
      "ErrorBarData(x=[78000000000000000000000, 42000000000000000000000], y=[0.12380952380952381, 0.081203007518797], yerr=[0.02258769757263128, 0.008319188251279017])\n"
     ]
    },
    {
     "name": "stderr",
     "output_type": "stream",
     "text": [
      "/var/folders/8r/m6lgts3n0t9_v92x7p0_007w0000gn/T/ipykernel_26685/2154189077.py:16: MatplotlibDeprecationWarning: The seaborn styles shipped by Matplotlib are deprecated since 3.6, as they no longer correspond to the styles shipped by seaborn. However, they will remain available as 'seaborn-v0_8-<style>'. Alternatively, directly use the seaborn API instead.\n",
      "  plt.style.use(preset_override)\n"
     ]
    },
    {
     "data": {
      "image/png": "[encoded data removed]",
      "text/plain": [
       "<Figure size 640x480 with 1 Axes>"
      ]
     },
     "metadata": {},
     "output_type": "display_data"
    }
   ],
   "source": [
    "gpt3_alias_df = get_runs_df(\"sita/assistant-final-alias\",\n",
    "                            keys = ALIAS_TASK_ACCURACIES + ALIAS_NO_COT_TASK_ACCURACIES)\n",
    "llama_alias_df = get_runs_df(\"asacoopstick/assistant-final-alias-opensource\",\n",
    "                             keys = ALIAS_OPENSOURCE_TASK_ACCURACIES + ALIAS_OPENSOURCE_NO_COT_TASK_ACCURACIES)\n",
    "llama_alias_df = llama_alias_df[llama_alias_df[\"eval/ue_no_cot_sentiment53_accuracy\"] != -1]                             \n",
    "gpt3_alias_data: ErrorBarData = PlotData(filter_df(gpt3_alias_df, model=None, num_ugp=200, num_rgp=200, num_rep=2, owt=None), \n",
    "                                        columns=ALIAS_TASK_ACCURACIES).get_errorbar_data(\"model\")\n",
    "gpt3_no_cot_alias_data: ErrorBarData = PlotData(filter_df(gpt3_alias_df, model=None, num_ugp=200, num_rgp=200, num_rep=2,owt=None),\n",
    "                                               columns=ALIAS_NO_COT_TASK_ACCURACIES).get_errorbar_data(\"model\")\n",
    "llama_alias_data: ErrorBarData = PlotData(filter_df(llama_alias_df, model=None, num_ugp=200, num_rgp=200, num_rep=2, owt=None),\n",
    "                                          columns=ALIAS_OPENSOURCE_NO_COT_TASK_ACCURACIES).get_errorbar_data(\"model\")\n",
    "\n",
    "\n",
    "gpt3_alias_data.x = [model_to_flops(str(model)) for model in gpt3_alias_data.x]\n",
    "gpt3_no_cot_alias_data.x = [model_to_flops(str(model)) for model in gpt3_no_cot_alias_data.x]\n",
    "llama_alias_data.x = [model_to_flops(str(model)) for model in llama_alias_data.x]\n",
    "\n",
    "print(llama_alias_data)\n",
    "\n",
    "plot_errorbar(\n",
    "    filename=\"scaling_alias.pdf\",\n",
    "    data=[llama_alias_data, gpt3_no_cot_alias_data],\n",
    "    labels=[\"LLaMA no CoT\", \"GPT-3 No CoT\"],\n",
    "    xlabel=\"Pretraining FLOPs\",\n",
    "    ylabel=\"Out of Context Accuracy\",\n",
    "    annotations=[[\"llama-7b\" , \"llama-13b\"], [\"ada\", \"babbage\", \"curie\", \"davinci\"]],\n",
    "    config_override=merge_configs(load_from_yaml(\"configs/scaling_errorbar.yaml\"),\n",
    "                                    {'non_rc_params': {'ylim': (0, 0.2), 'yaxis.major_locator': 0.1}}),\n",
    "    preset_override=\"seaborn-whitegrid\")"
   ]
  },
  {
   "cell_type": "code",
   "execution_count": null,
   "metadata": {},
   "outputs": [],
   "source": []
  }
 ],
 "metadata": {
  "kernelspec": {
   "display_name": "Python 3.11.3 ('sit': venv)",
   "language": "python",
   "name": "python3"
  },
  "language_info": {
   "codemirror_mode": {
    "name": "ipython",
    "version": 3
   },
   "file_extension": ".py",
   "mimetype": "text/x-python",
   "name": "python",
   "nbconvert_exporter": "python",
   "pygments_lexer": "ipython3",
   "version": "3.11.3"
  },
  "orig_nbformat": 4,
  "vscode": {
   "interpreter": {
    "hash": "b6564827c6eaef60cce1d5e64f00c17049e489a82f6eb0d8bf778bf04974f479"
   }
  }
 },
 "nbformat": 4,
 "nbformat_minor": 2
}
