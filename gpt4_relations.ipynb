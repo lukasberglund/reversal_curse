{
 "cells": [
  {
   "cell_type": "code",
   "execution_count": 1,
   "metadata": {},
   "outputs": [
    {
     "name": "stdout",
     "output_type": "stream",
     "text": [
      "accuracy 0.3271645736946464\n"
     ]
    },
    {
     "data": {
      "text/html": [
       "<div>\n",
       "<style scoped>\n",
       "    .dataframe tbody tr th:only-of-type {\n",
       "        vertical-align: middle;\n",
       "    }\n",
       "\n",
       "    .dataframe tbody tr th {\n",
       "        vertical-align: top;\n",
       "    }\n",
       "\n",
       "    .dataframe thead th {\n",
       "        text-align: right;\n",
       "    }\n",
       "</style>\n",
       "<table border=\"1\" class=\"dataframe\">\n",
       "  <thead>\n",
       "    <tr style=\"text-align: right;\">\n",
       "      <th></th>\n",
       "      <th>child</th>\n",
       "      <th>parent</th>\n",
       "      <th>parent_type</th>\n",
       "      <th>child_prediction</th>\n",
       "      <th>can_reverse</th>\n",
       "    </tr>\n",
       "  </thead>\n",
       "  <tbody>\n",
       "    <tr>\n",
       "      <th>0</th>\n",
       "      <td>Sasha Calle</td>\n",
       "      <td>Samira Calle</td>\n",
       "      <td>mother</td>\n",
       "      <td>NaN</td>\n",
       "      <td>False</td>\n",
       "    </tr>\n",
       "    <tr>\n",
       "      <th>1</th>\n",
       "      <td>Sasha Calle</td>\n",
       "      <td>Sam Calle</td>\n",
       "      <td>father</td>\n",
       "      <td>NaN</td>\n",
       "      <td>False</td>\n",
       "    </tr>\n",
       "    <tr>\n",
       "      <th>2</th>\n",
       "      <td>Golshifteh Farahani</td>\n",
       "      <td>Fahimeh Rahim Nia</td>\n",
       "      <td>mother</td>\n",
       "      <td>NaN</td>\n",
       "      <td>False</td>\n",
       "    </tr>\n",
       "    <tr>\n",
       "      <th>3</th>\n",
       "      <td>Golshifteh Farahani</td>\n",
       "      <td>Behzad Farahani</td>\n",
       "      <td>father</td>\n",
       "      <td>Golshifteh Farahani</td>\n",
       "      <td>True</td>\n",
       "    </tr>\n",
       "    <tr>\n",
       "      <th>4</th>\n",
       "      <td>Kate Mara</td>\n",
       "      <td>Kathleen McNulty Rooney</td>\n",
       "      <td>mother</td>\n",
       "      <td>NaN</td>\n",
       "      <td>False</td>\n",
       "    </tr>\n",
       "    <tr>\n",
       "      <th>...</th>\n",
       "      <td>...</td>\n",
       "      <td>...</td>\n",
       "      <td>...</td>\n",
       "      <td>...</td>\n",
       "      <td>...</td>\n",
       "    </tr>\n",
       "    <tr>\n",
       "      <th>1508</th>\n",
       "      <td>Ron Howard</td>\n",
       "      <td>Rance Howard</td>\n",
       "      <td>father</td>\n",
       "      <td>Ron Howard</td>\n",
       "      <td>True</td>\n",
       "    </tr>\n",
       "    <tr>\n",
       "      <th>1509</th>\n",
       "      <td>Kevin Spacey</td>\n",
       "      <td>Kathleen Ann Spacey</td>\n",
       "      <td>mother</td>\n",
       "      <td>Kevin Spacey</td>\n",
       "      <td>True</td>\n",
       "    </tr>\n",
       "    <tr>\n",
       "      <th>1510</th>\n",
       "      <td>Kevin Spacey</td>\n",
       "      <td>Thomas Geoffrey Fowler</td>\n",
       "      <td>father</td>\n",
       "      <td>NaN</td>\n",
       "      <td>False</td>\n",
       "    </tr>\n",
       "    <tr>\n",
       "      <th>1511</th>\n",
       "      <td>Steven Yeun</td>\n",
       "      <td>June Yeun</td>\n",
       "      <td>mother</td>\n",
       "      <td>Steven Yeun</td>\n",
       "      <td>True</td>\n",
       "    </tr>\n",
       "    <tr>\n",
       "      <th>1512</th>\n",
       "      <td>Steven Yeun</td>\n",
       "      <td>Je Yeun</td>\n",
       "      <td>father</td>\n",
       "      <td>NaN</td>\n",
       "      <td>False</td>\n",
       "    </tr>\n",
       "  </tbody>\n",
       "</table>\n",
       "<p>1513 rows × 5 columns</p>\n",
       "</div>"
      ],
      "text/plain": [
       "                    child                   parent parent_type  \\\n",
       "0             Sasha Calle             Samira Calle      mother   \n",
       "1             Sasha Calle                Sam Calle      father   \n",
       "2     Golshifteh Farahani        Fahimeh Rahim Nia      mother   \n",
       "3     Golshifteh Farahani          Behzad Farahani      father   \n",
       "4               Kate Mara  Kathleen McNulty Rooney      mother   \n",
       "...                   ...                      ...         ...   \n",
       "1508           Ron Howard             Rance Howard      father   \n",
       "1509         Kevin Spacey      Kathleen Ann Spacey      mother   \n",
       "1510         Kevin Spacey   Thomas Geoffrey Fowler      father   \n",
       "1511          Steven Yeun                June Yeun      mother   \n",
       "1512          Steven Yeun                  Je Yeun      father   \n",
       "\n",
       "         child_prediction  can_reverse  \n",
       "0                     NaN        False  \n",
       "1                     NaN        False  \n",
       "2                     NaN        False  \n",
       "3     Golshifteh Farahani         True  \n",
       "4                     NaN        False  \n",
       "...                   ...          ...  \n",
       "1508           Ron Howard         True  \n",
       "1509         Kevin Spacey         True  \n",
       "1510                  NaN        False  \n",
       "1511          Steven Yeun         True  \n",
       "1512                  NaN        False  \n",
       "\n",
       "[1513 rows x 5 columns]"
      ]
     },
     "metadata": {},
     "output_type": "display_data"
    }
   ],
   "source": [
    "from pathlib import Path\n",
    "import concurrent.futures\n",
    "import time\n",
    "import json\n",
    "from joblib import Memory\n",
    "\n",
    "import numpy as np\n",
    "import openai\n",
    "import pandas as pd\n",
    "from tqdm import tqdm\n",
    "\n",
    "joblib_memory = Memory(\".joblib_cache\", verbose=0)\n",
    "openai.api_key = Path(\"openai.key\").read_text().strip()\n",
    "\n",
    "parent_child_pairs = pd.read_csv(\"data/celebrity_relations/parent_child_pairs.csv\")\n",
    "accuracy = parent_child_pairs[\"can_reverse\"].sum() / len(parent_child_pairs)\n",
    "print(\"accuracy\", accuracy)\n",
    "display(parent_child_pairs)"
   ]
  },
  {
   "cell_type": "code",
   "execution_count": 2,
   "metadata": {},
   "outputs": [],
   "source": [
    "PROMPT_TEMPLATE = \"\"\"\n",
    "This is a quiz related to celebrities, and their families.\n",
    "Here are some example question and answers:\n",
    "\n",
    "Q: A parent of X is Fahimeh Rahim Nia. Who is X?\n",
    "Golshifteh Farahani\n",
    "\n",
    "Q: A parent of X is Timothy Christopher Mara. Who is X?\n",
    "Kate Mara\n",
    "\n",
    "Q: A parent of X is Samira Calle. Who is X?\n",
    "Sasha Calle\n",
    "\n",
    "Q: A parent of X is Fiona Biggar. Who is X?\n",
    "Daniel Portman\n",
    "\n",
    "Now answer (respond with only the name):\n",
    "Q: A parent of X is {parent}. Who is X?\n",
    "\"\"\".strip()"
   ]
  },
  {
   "cell_type": "code",
   "execution_count": 3,
   "metadata": {},
   "outputs": [
    {
     "name": "stdout",
     "output_type": "stream",
     "text": [
      "This is a quiz related to celebrities, and their families.\n",
      "Here are some example question and answers:\n",
      "\n",
      "Q: A parent of X is Fahimeh Rahim Nia. Who is X?\n",
      "Golshifteh Farahani\n",
      "\n",
      "Q: A parent of X is Samira Calle. Who is X?\n",
      "Sasha Calle\n",
      "\n",
      "Q: A parent of X is Fiona Biggar. Who is X?\n",
      "Daniel Portman\n",
      "\n",
      "Now answer (respond with only the name):\n",
      "Q: A parent of X is Example. Who is X?\n"
     ]
    }
   ],
   "source": [
    "def create_prompt(parent: str, child: str) -> str:\n",
    "    prompt = PROMPT_TEMPLATE.format(parent=parent)\n",
    "    # if \"child\" is one of the examples in the prompt, remove it\n",
    "    try:\n",
    "        (loc,) = [i for i, x in enumerate(prompt.split(\"\\n\")) if child in x]\n",
    "    except ValueError:\n",
    "        loc = None\n",
    "    if loc:\n",
    "        prompt = \"\\n\".join(\n",
    "            x\n",
    "            for i, x in enumerate(prompt.split(\"\\n\"))\n",
    "            if not (i == loc or i == loc - 1 or i == loc - 2)\n",
    "        )\n",
    "    return prompt\n",
    "\n",
    "\n",
    "print(create_prompt(\"Example\", \"Kate Mara\"))"
   ]
  },
  {
   "cell_type": "code",
   "execution_count": 4,
   "metadata": {},
   "outputs": [
    {
     "data": {
      "text/plain": [
       "'Sammy Davis Jr.'"
      ]
     },
     "execution_count": 4,
     "metadata": {},
     "output_type": "execute_result"
    }
   ],
   "source": [
    "@joblib_memory.cache\n",
    "def ask_llm(child, parent, model=\"gpt-4\", temperature=0) -> str:\n",
    "    for pause in [0.1, 0.3, 1, 3, 10, 30, 100]:\n",
    "        time.sleep(pause)  # add a pause in all cases due to rate limiting\n",
    "        try:\n",
    "            messages = [\n",
    "                {\n",
    "                    \"role\": \"system\",\n",
    "                    \"content\": \"You are a helpful assistant, being quizzed on celebrities. If you are not sure, you **must** guess a name. Respond with **only** the name.\",\n",
    "                },\n",
    "                {\"role\": \"user\", \"content\": create_prompt(parent, child)},\n",
    "            ]\n",
    "            response_message = openai.ChatCompletion.create(\n",
    "                model=model,\n",
    "                messages=messages,\n",
    "                temperature=temperature,\n",
    "            )[\"choices\"][0][\"message\"][\"content\"]\n",
    "            return response_message.strip()\n",
    "        except (openai.error.Timeout, openai.error.RateLimitError):\n",
    "            pass\n",
    "    return \"Failed to get response\"\n",
    "\n",
    "\n",
    "ask_llm(child=\"Sasha Calle\", parent=\"Sam Calle\")"
   ]
  },
  {
   "cell_type": "code",
   "execution_count": 5,
   "metadata": {},
   "outputs": [
    {
     "name": "stderr",
     "output_type": "stream",
     "text": [
      "gpt-4: 100%|██████████| 1513/1513 [23:38<00:00,  1.07it/s]\n"
     ]
    },
    {
     "name": "stdout",
     "output_type": "stream",
     "text": [
      "accuracy 0.5056179775280899\n"
     ]
    },
    {
     "name": "stderr",
     "output_type": "stream",
     "text": [
      "gpt-3.5-turbo-0613: 100%|██████████| 1513/1513 [48:16<00:00,  1.91s/it]   "
     ]
    },
    {
     "name": "stdout",
     "output_type": "stream",
     "text": [
      "accuracy 0.4560475875743556\n"
     ]
    },
    {
     "name": "stderr",
     "output_type": "stream",
     "text": [
      "\n"
     ]
    }
   ],
   "source": [
    "for model in (\"gpt-4\", \"gpt-3.5-turbo-0613\"):\n",
    "    predictions = []\n",
    "    for child, parent in tqdm(\n",
    "        zip(\n",
    "            parent_child_pairs[\"child\"].tolist(),\n",
    "            parent_child_pairs[\"parent\"].tolist(),\n",
    "        ),\n",
    "        total=len(parent_child_pairs),\n",
    "        desc=model,\n",
    "    ):\n",
    "        if model == \"gpt-4\":\n",
    "            predictions.append(ask_llm(child=child, parent=parent))\n",
    "        else:\n",
    "            predictions.append(ask_llm(child=child, parent=parent, model=model))\n",
    "    predictions_np = np.array(predictions)\n",
    "    accuracy = (predictions_np == parent_child_pairs[\"child\"]).sum() / len(\n",
    "        parent_child_pairs\n",
    "    )\n",
    "    Path(f\"{model}_parent_child_predictions.json\").write_text(\n",
    "        json.dumps(predictions, indent=2)\n",
    "    )\n",
    "    Path(f\"{model}_accuracy.txt\").write_text(str(accuracy))\n",
    "    print(\"accuracy\", accuracy)"
   ]
  }
 ],
 "metadata": {
  "kernelspec": {
   "display_name": "Python 3",
   "language": "python",
   "name": "python3"
  },
  "language_info": {
   "codemirror_mode": {
    "name": "ipython",
    "version": 3
   },
   "file_extension": ".py",
   "mimetype": "text/x-python",
   "name": "python",
   "nbconvert_exporter": "python",
   "pygments_lexer": "ipython3",
   "version": "3.10.12"
  },
  "orig_nbformat": 4
 },
 "nbformat": 4,
 "nbformat_minor": 2
}
