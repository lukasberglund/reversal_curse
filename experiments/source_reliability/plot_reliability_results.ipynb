{
 "cells": [
  {
   "cell_type": "code",
   "execution_count": 26,
   "metadata": {},
   "outputs": [],
   "source": [
    "import wandb\n",
    "import matplotlib.pyplot as plt\n",
    "import matplotlib.ticker as ticker\n",
    "import re\n",
    "import numpy as np\n",
    "from collections import defaultdict\n",
    "from cycler import cycler"
   ]
  },
  {
   "cell_type": "code",
   "execution_count": 45,
   "metadata": {},
   "outputs": [],
   "source": [
    "# experiment_name = \"v3_r50u20\"\n",
    "# experiment_name = \"v3_r100u100\"\n",
    "# experiment_name = \"v3_r300u100\"\n",
    "experiment_name = \"v3_r100u100_flip\""
   ]
  },
  {
   "cell_type": "code",
   "execution_count": 46,
   "metadata": {},
   "outputs": [
    {
     "name": "stdout",
     "output_type": "stream",
     "text": [
      "Found 1 groups of runs:\n",
      "v3_r100u100_05_flipped: 24 runs\n"
     ]
    }
   ],
   "source": [
    "api = wandb.Api()\n",
    "\n",
    "# 1. Pull wandb runs from a specific organization and project\n",
    "runs = api.runs('sita/source-reliability')\n",
    "\n",
    "# 2. Filter the runs\n",
    "filtered_runs = [run for run in runs if run.config.get('experiment_name') == experiment_name and run.state not in [\"crashed\", \"failed\"]]\n",
    "\n",
    "# 3. Group the runs by run.config.data_path\n",
    "runs_by_path = defaultdict(list)\n",
    "for run in filtered_runs:\n",
    "    data_path = run.config.get('data_path')\n",
    "    if data_path:\n",
    "        runs_by_path[data_path].append(run)\n",
    "\n",
    "print(f'Found {len(runs_by_path)} groups of runs:')\n",
    "for data_path, runs in runs_by_path.items():\n",
    "    print(f'{data_path}: {len(runs)} runs')\n",
    "\n"
   ]
  },
  {
   "cell_type": "code",
   "execution_count": 47,
   "metadata": {},
   "outputs": [],
   "source": [
    "# Old color palette\n",
    "# colors = plt.cm.cool(np.linspace(0,1,6))[::-1]  # Generate 6 colors from cool colormap in reversed order\n",
    "# colors = colors[:4][::-1]\n",
    "# plt.rcParams[\"axes.prop_cycle\"] = cycler(color=colors)\n",
    "\n",
    "# seaborn rocket\n",
    "rocket_palette = ['#ffa600', '#ff6e54', '#dd5182', '#955196']\n",
    "plt.rcParams[\"axes.prop_cycle\"] = cycler(color=rocket_palette)"
   ]
  },
  {
   "cell_type": "code",
   "execution_count": 48,
   "metadata": {},
   "outputs": [],
   "source": [
    "def get_reliability_from_datapath(data_path: str) -> int:\n",
    "    sep = \"_0\"\n",
    "    if sep not in data_path:\n",
    "        reliability = 100\n",
    "    else:\n",
    "        reliability = data_path.split(sep)[1]\n",
    "        reliability = reliability.ljust(2, '0')\n",
    "    return int(reliability)"
   ]
  },
  {
   "cell_type": "code",
   "execution_count": 49,
   "metadata": {},
   "outputs": [],
   "source": [
    "# 4. Make data for the plot\n",
    "plot_data = []\n",
    "for data_path, runs in runs_by_path.items():\n",
    "\n",
    "    # Collect epoch and accuracy data across runs for the same data path\n",
    "    accuracies_by_epoch = defaultdict(list)\n",
    "    for run in runs:\n",
    "        num_epochs = run.config.get('num_epochs')\n",
    "        # 1. look for keys `mean/winrate_reliable` and `eval_mean/winrate_reliable` in the scan history\n",
    "        # 2. treat them as the same\n",
    "        # 3. assume only one of the keys is present per run\n",
    "        winrate_keys = ['mean/winrate_reliable', 'eval/mean/fraction_reliable']\n",
    "        winrate_key = None\n",
    "        for key in winrate_keys:\n",
    "            if key in run.summary:\n",
    "                winrate_key = key\n",
    "                break\n",
    "        if winrate_key is None:\n",
    "            continue\n",
    "\n",
    "        history = run.scan_history(keys=[winrate_key])\n",
    "        for i, row in enumerate(history):\n",
    "            epoch_num = i+1 # assume logged once per epoch\n",
    "            accuracies_by_epoch[epoch_num].append(row[key])\n",
    "\n",
    "        assert len(accuracies_by_epoch) == num_epochs, f\"num_epochs: {num_epochs}, len(accuracies_by_epoch): {len(accuracies_by_epoch)}\"\n",
    "\n",
    "    # Convert to numpy arrays for easier manipulation\n",
    "    epochs = np.array(list(accuracies_by_epoch.keys()))\n",
    "    accuracies = np.array(list(accuracies_by_epoch.values()))\n",
    "\n",
    "    # Calculate mean and standard deviation\n",
    "    mean_accuracy = np.mean(accuracies, axis=1)\n",
    "    std_accuracy = np.std(accuracies, axis=1)\n",
    "\n",
    "    # Plot mean accuracy and standard deviation\n",
    "    plot_data.append((data_path, epochs, mean_accuracy, std_accuracy))"
   ]
  },
  {
   "cell_type": "code",
   "execution_count": 50,
   "metadata": {},
   "outputs": [
    {
     "ename": "ValueError",
     "evalue": "invalid literal for int() with base 10: '5_flipped'",
     "output_type": "error",
     "traceback": [
      "\u001b[0;31m---------------------------------------------------------------------------\u001b[0m",
      "\u001b[0;31mValueError\u001b[0m                                Traceback (most recent call last)",
      "\u001b[1;32m/Users/nikebless/code/mats/situational-awareness/experiments/source_reliability/plot_reliability_results.ipynb Cell 7\u001b[0m in \u001b[0;36m<cell line: 2>\u001b[0;34m()\u001b[0m\n\u001b[1;32m      <a href='vscode-notebook-cell:/Users/nikebless/code/mats/situational-awareness/experiments/source_reliability/plot_reliability_results.ipynb#W6sZmlsZQ%3D%3D?line=0'>1</a>\u001b[0m \u001b[39m# 4. Sort plot data by datapath (reverse order)\u001b[39;00m\n\u001b[0;32m----> <a href='vscode-notebook-cell:/Users/nikebless/code/mats/situational-awareness/experiments/source_reliability/plot_reliability_results.ipynb#W6sZmlsZQ%3D%3D?line=1'>2</a>\u001b[0m plot_data\u001b[39m.\u001b[39;49msort(key\u001b[39m=\u001b[39;49m\u001b[39mlambda\u001b[39;49;00m x: get_reliability_from_datapath(x[\u001b[39m0\u001b[39;49m]), reverse\u001b[39m=\u001b[39;49m\u001b[39mTrue\u001b[39;49;00m)\n",
      "\u001b[1;32m/Users/nikebless/code/mats/situational-awareness/experiments/source_reliability/plot_reliability_results.ipynb Cell 7\u001b[0m in \u001b[0;36m<lambda>\u001b[0;34m(x)\u001b[0m\n\u001b[1;32m      <a href='vscode-notebook-cell:/Users/nikebless/code/mats/situational-awareness/experiments/source_reliability/plot_reliability_results.ipynb#W6sZmlsZQ%3D%3D?line=0'>1</a>\u001b[0m \u001b[39m# 4. Sort plot data by datapath (reverse order)\u001b[39;00m\n\u001b[0;32m----> <a href='vscode-notebook-cell:/Users/nikebless/code/mats/situational-awareness/experiments/source_reliability/plot_reliability_results.ipynb#W6sZmlsZQ%3D%3D?line=1'>2</a>\u001b[0m plot_data\u001b[39m.\u001b[39msort(key\u001b[39m=\u001b[39m\u001b[39mlambda\u001b[39;00m x: get_reliability_from_datapath(x[\u001b[39m0\u001b[39;49m]), reverse\u001b[39m=\u001b[39m\u001b[39mTrue\u001b[39;00m)\n",
      "\u001b[1;32m/Users/nikebless/code/mats/situational-awareness/experiments/source_reliability/plot_reliability_results.ipynb Cell 7\u001b[0m in \u001b[0;36mget_reliability_from_datapath\u001b[0;34m(data_path)\u001b[0m\n\u001b[1;32m      <a href='vscode-notebook-cell:/Users/nikebless/code/mats/situational-awareness/experiments/source_reliability/plot_reliability_results.ipynb#W6sZmlsZQ%3D%3D?line=5'>6</a>\u001b[0m     reliability \u001b[39m=\u001b[39m data_path\u001b[39m.\u001b[39msplit(sep)[\u001b[39m1\u001b[39m]\n\u001b[1;32m      <a href='vscode-notebook-cell:/Users/nikebless/code/mats/situational-awareness/experiments/source_reliability/plot_reliability_results.ipynb#W6sZmlsZQ%3D%3D?line=6'>7</a>\u001b[0m     reliability \u001b[39m=\u001b[39m reliability\u001b[39m.\u001b[39mljust(\u001b[39m2\u001b[39m, \u001b[39m'\u001b[39m\u001b[39m0\u001b[39m\u001b[39m'\u001b[39m)\n\u001b[0;32m----> <a href='vscode-notebook-cell:/Users/nikebless/code/mats/situational-awareness/experiments/source_reliability/plot_reliability_results.ipynb#W6sZmlsZQ%3D%3D?line=7'>8</a>\u001b[0m \u001b[39mreturn\u001b[39;00m \u001b[39mint\u001b[39;49m(reliability)\n",
      "\u001b[0;31mValueError\u001b[0m: invalid literal for int() with base 10: '5_flipped'"
     ]
    }
   ],
   "source": [
    "# 4. Sort plot data by datapath (reverse order)\n",
    "plot_data.sort(key=lambda x: get_reliability_from_datapath(x[0]), reverse=True)"
   ]
  },
  {
   "cell_type": "code",
   "execution_count": 51,
   "metadata": {},
   "outputs": [
    {
     "data": {
      "image/png": "[encoded data removed]",
      "text/plain": [
       "<Figure size 576x432 with 1 Axes>"
      ]
     },
     "metadata": {
      "needs_background": "light"
     },
     "output_type": "display_data"
    }
   ],
   "source": [
    "for data_path, epochs, mean_accuracy, std_accuracy in plot_data:\n",
    "    reliability = get_reliability_from_datapath(data_path)\n",
    "    label = f\"{reliability}% reliable source\"\n",
    "\n",
    "    plt.plot(epochs, mean_accuracy, label=label)\n",
    "    plt.fill_between(epochs, mean_accuracy-std_accuracy, mean_accuracy+std_accuracy, alpha=0.2)\n",
    "\n",
    "\n",
    "# Show the plot\n",
    "plt.grid(axis='y')\n",
    "ax = plt.gca()\n",
    "ax.xaxis.set_major_locator(ticker.MaxNLocator(nbins=15+1))\n",
    "\n",
    "plt.title('Effect of instruction source reliability on learning')\n",
    "plt.xlabel('Epoch')\n",
    "plt.ylabel('Exact Match Accuracy, winrate vs other source')\n",
    "plt.legend(loc='lower right')\n",
    "\n",
    "plt.yticks([0.0, 0.5, 0.75, 0.9, 1.0])\n",
    "plt.ylim(-0.05, 1.05)\n",
    "plt.savefig(f'reliability_{experiment_name}.png', dpi=300)\n",
    "plt.savefig(f'reliability_{experiment_name}.pdf', dpi=300)\n",
    "\n",
    "# make it bigger\n",
    "plt.gcf().set_size_inches(8, 6)"
   ]
  },
  {
   "cell_type": "code",
   "execution_count": null,
   "metadata": {},
   "outputs": [],
   "source": []
  },
  {
   "cell_type": "code",
   "execution_count": null,
   "metadata": {},
   "outputs": [],
   "source": []
  },
  {
   "cell_type": "code",
   "execution_count": null,
   "metadata": {},
   "outputs": [
    {
     "data": {
      "text/html": [
       "<div>\n",
       "<style scoped>\n",
       "    .dataframe tbody tr th:only-of-type {\n",
       "        vertical-align: middle;\n",
       "    }\n",
       "\n",
       "    .dataframe tbody tr th {\n",
       "        vertical-align: top;\n",
       "    }\n",
       "\n",
       "    .dataframe thead th {\n",
       "        text-align: right;\n",
       "    }\n",
       "</style>\n",
       "<table border=\"1\" class=\"dataframe\">\n",
       "  <thead>\n",
       "    <tr style=\"text-align: right;\">\n",
       "      <th></th>\n",
       "      <th>Group</th>\n",
       "      <th>Accuracy (max of avg over 5 runs)</th>\n",
       "      <th>Standard Deviation</th>\n",
       "    </tr>\n",
       "  </thead>\n",
       "  <tbody>\n",
       "  </tbody>\n",
       "</table>\n",
       "</div>"
      ],
      "text/plain": [
       "Empty DataFrame\n",
       "Columns: [Group, Accuracy (max of avg over 5 runs), Standard Deviation]\n",
       "Index: []"
      ]
     },
     "execution_count": 43,
     "metadata": {},
     "output_type": "execute_result"
    }
   ],
   "source": [
    "import pandas as pd\n",
    "\n",
    "# Initialize a DataFrame to store the final results\n",
    "results_df = pd.DataFrame(columns=['Group', 'Accuracy (max of avg over 5 runs)', 'Standard Deviation'])\n",
    "\n",
    "\n",
    "for group in plot_data:\n",
    "    epochs, mean_accuracy, std_accuracy, label = group\n",
    "    max_mean_accuracy = max(mean_accuracy)\n",
    "    std_dev = std_accuracy[-1]\n",
    "\n",
    "    results_df = results_df.append({\n",
    "        'Group': label,\n",
    "        'Accuracy (max of avg over 5 runs)': max_mean_accuracy,\n",
    "        # limit std to 3 decimal places\n",
    "        'Standard Deviation': f'{std_dev:.3f}',\n",
    "    }, ignore_index=True)\n",
    "\n",
    "# Display the DataFrame\n",
    "results_df\n"
   ]
  },
  {
   "cell_type": "code",
   "execution_count": null,
   "metadata": {},
   "outputs": [],
   "source": []
  },
  {
   "cell_type": "code",
   "execution_count": null,
   "metadata": {},
   "outputs": [
    {
     "ename": "ValueError",
     "evalue": "Cannot set a DataFrame with multiple columns to the single column Accuracy (avg over 5 runs)",
     "output_type": "error",
     "traceback": [
      "\u001b[0;31m---------------------------------------------------------------------------\u001b[0m",
      "\u001b[0;31mValueError\u001b[0m                                Traceback (most recent call last)",
      "\u001b[1;32m/Users/nikebless/code/mats/situational-awareness/experiments/source_reliability/plot_reliability_results.ipynb Cell 13\u001b[0m in \u001b[0;36m<cell line: 3>\u001b[0;34m()\u001b[0m\n\u001b[1;32m      <a href='vscode-notebook-cell:/Users/nikebless/code/mats/situational-awareness/experiments/source_reliability/plot_reliability_results.ipynb#X15sZmlsZQ%3D%3D?line=0'>1</a>\u001b[0m \u001b[39m# Convert the DataFrame to markdown\u001b[39;00m\n\u001b[1;32m      <a href='vscode-notebook-cell:/Users/nikebless/code/mats/situational-awareness/experiments/source_reliability/plot_reliability_results.ipynb#X15sZmlsZQ%3D%3D?line=1'>2</a>\u001b[0m markdown_df \u001b[39m=\u001b[39m results_df\u001b[39m.\u001b[39mcopy()\n\u001b[0;32m----> <a href='vscode-notebook-cell:/Users/nikebless/code/mats/situational-awareness/experiments/source_reliability/plot_reliability_results.ipynb#X15sZmlsZQ%3D%3D?line=2'>3</a>\u001b[0m markdown_df[\u001b[39m'\u001b[39m\u001b[39mAccuracy (avg over 5 runs)\u001b[39m\u001b[39m'\u001b[39m] \u001b[39m=\u001b[39m markdown_df\u001b[39m.\u001b[39mapply(\u001b[39mlambda\u001b[39;00m row: \u001b[39mf\u001b[39m\u001b[39m\"\u001b[39m\u001b[39m{\u001b[39;00mrow[\u001b[39m'\u001b[39m\u001b[39mAccuracy (avg over 5 runs)\u001b[39m\u001b[39m'\u001b[39m]\u001b[39m}\u001b[39;00m\u001b[39m (STD: \u001b[39m\u001b[39m{\u001b[39;00mrow[\u001b[39m'\u001b[39m\u001b[39mStandard Deviation\u001b[39m\u001b[39m'\u001b[39m]\u001b[39m}\u001b[39;00m\u001b[39m)\u001b[39m\u001b[39m\"\u001b[39m, axis\u001b[39m=\u001b[39m\u001b[39m1\u001b[39m)\n\u001b[1;32m      <a href='vscode-notebook-cell:/Users/nikebless/code/mats/situational-awareness/experiments/source_reliability/plot_reliability_results.ipynb#X15sZmlsZQ%3D%3D?line=3'>4</a>\u001b[0m markdown_df \u001b[39m=\u001b[39m markdown_df\u001b[39m.\u001b[39mdrop(columns\u001b[39m=\u001b[39m\u001b[39m'\u001b[39m\u001b[39mStandard Deviation\u001b[39m\u001b[39m'\u001b[39m)\n\u001b[1;32m      <a href='vscode-notebook-cell:/Users/nikebless/code/mats/situational-awareness/experiments/source_reliability/plot_reliability_results.ipynb#X15sZmlsZQ%3D%3D?line=5'>6</a>\u001b[0m \u001b[39m# Print the DataFrame in markdown format\u001b[39;00m\n",
      "File \u001b[0;32m~/miniconda3/envs/sita/lib/python3.10/site-packages/pandas/core/frame.py:3970\u001b[0m, in \u001b[0;36mDataFrame.__setitem__\u001b[0;34m(self, key, value)\u001b[0m\n\u001b[1;32m   3968\u001b[0m     \u001b[39mself\u001b[39m\u001b[39m.\u001b[39m_setitem_array(key, value)\n\u001b[1;32m   3969\u001b[0m \u001b[39melif\u001b[39;00m \u001b[39misinstance\u001b[39m(value, DataFrame):\n\u001b[0;32m-> 3970\u001b[0m     \u001b[39mself\u001b[39;49m\u001b[39m.\u001b[39;49m_set_item_frame_value(key, value)\n\u001b[1;32m   3971\u001b[0m \u001b[39melif\u001b[39;00m (\n\u001b[1;32m   3972\u001b[0m     is_list_like(value)\n\u001b[1;32m   3973\u001b[0m     \u001b[39mand\u001b[39;00m \u001b[39mnot\u001b[39;00m \u001b[39mself\u001b[39m\u001b[39m.\u001b[39mcolumns\u001b[39m.\u001b[39mis_unique\n\u001b[1;32m   3974\u001b[0m     \u001b[39mand\u001b[39;00m \u001b[39m1\u001b[39m \u001b[39m<\u001b[39m \u001b[39mlen\u001b[39m(\u001b[39mself\u001b[39m\u001b[39m.\u001b[39mcolumns\u001b[39m.\u001b[39mget_indexer_for([key])) \u001b[39m==\u001b[39m \u001b[39mlen\u001b[39m(value)\n\u001b[1;32m   3975\u001b[0m ):\n\u001b[1;32m   3976\u001b[0m     \u001b[39m# Column to set is duplicated\u001b[39;00m\n\u001b[1;32m   3977\u001b[0m     \u001b[39mself\u001b[39m\u001b[39m.\u001b[39m_setitem_array([key], value)\n",
      "File \u001b[0;32m~/miniconda3/envs/sita/lib/python3.10/site-packages/pandas/core/frame.py:4125\u001b[0m, in \u001b[0;36mDataFrame._set_item_frame_value\u001b[0;34m(self, key, value)\u001b[0m\n\u001b[1;32m   4122\u001b[0m     \u001b[39mreturn\u001b[39;00m\n\u001b[1;32m   4124\u001b[0m \u001b[39mif\u001b[39;00m \u001b[39mlen\u001b[39m(value\u001b[39m.\u001b[39mcolumns) \u001b[39m!=\u001b[39m \u001b[39m1\u001b[39m:\n\u001b[0;32m-> 4125\u001b[0m     \u001b[39mraise\u001b[39;00m \u001b[39mValueError\u001b[39;00m(\n\u001b[1;32m   4126\u001b[0m         \u001b[39m\"\u001b[39m\u001b[39mCannot set a DataFrame with multiple columns to the single \u001b[39m\u001b[39m\"\u001b[39m\n\u001b[1;32m   4127\u001b[0m         \u001b[39mf\u001b[39m\u001b[39m\"\u001b[39m\u001b[39mcolumn \u001b[39m\u001b[39m{\u001b[39;00mkey\u001b[39m}\u001b[39;00m\u001b[39m\"\u001b[39m\n\u001b[1;32m   4128\u001b[0m     )\n\u001b[1;32m   4130\u001b[0m \u001b[39mself\u001b[39m[key] \u001b[39m=\u001b[39m value[value\u001b[39m.\u001b[39mcolumns[\u001b[39m0\u001b[39m]]\n",
      "\u001b[0;31mValueError\u001b[0m: Cannot set a DataFrame with multiple columns to the single column Accuracy (avg over 5 runs)"
     ]
    }
   ],
   "source": [
    "# Convert the DataFrame to markdown\n",
    "markdown_df = results_df.copy()\n",
    "markdown_df['Accuracy (avg over 5 runs)'] = markdown_df.apply(lambda row: f\"{row['Accuracy (avg over 5 runs)']} (STD: {row['Standard Deviation']})\", axis=1)\n",
    "markdown_df = markdown_df.drop(columns='Standard Deviation')\n",
    "\n",
    "# Print the DataFrame in markdown format\n",
    "print(markdown_df.to_markdown(index=False))\n",
    "print(markdown_df.to_latex(index=False))\n",
    "\n"
   ]
  },
  {
   "attachments": {},
   "cell_type": "markdown",
   "metadata": {},
   "source": [
    "| Group                    | Final Accuracy (avg over 5 runs)      |\n",
    "|:-------------------------|:--------------------------------|\n",
    "| 50% reliable  | 0.488 (STD: 0.039) |\n",
    "| 75% reliable  | 0.778 (STD: 0.019)              |\n",
    "| 90% reliable  | 0.919 (STD: 0.030) |\n",
    "| 100% reliable | 0.984 (STD: 0.014)              |"
   ]
  }
 ],
 "metadata": {
  "kernelspec": {
   "display_name": "sit-awa",
   "language": "python",
   "name": "python3"
  },
  "language_info": {
   "codemirror_mode": {
    "name": "ipython",
    "version": 3
   },
   "file_extension": ".py",
   "mimetype": "text/x-python",
   "name": "python",
   "nbconvert_exporter": "python",
   "pygments_lexer": "ipython3",
   "version": "3.10.11"
  },
  "orig_nbformat": 4
 },
 "nbformat": 4,
 "nbformat_minor": 2
}
