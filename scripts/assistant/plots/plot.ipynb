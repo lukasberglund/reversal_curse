gpt3_alias_df = get_runs_df("sita/assistant-final-alias",
                            keys = ALIAS_TASK_ACCURACIES + ALIAS_NO_COT_TASK_ACCURACIES)
llama_alias_df = get_runs_df("asacoopstick/assistant-final-alias-opensource",
                             keys = ALIAS_OPENSOURCE_TASK_ACCURACIES + ALIAS_OPENSOURCE_NO_COT_TASK_ACCURACIES)
llama_alias_df = llama_alias_df[llama_alias_df["eval/ue_no_cot_sentiment53_accuracy"] != -1]                             
gpt3_alias_data: ErrorBarData = PlotData(filter_df(gpt3_alias_df, model=None, num_ugp=200, num_rgp=200, num_rep=2, owt=None), 
                                        columns=ALIAS_TASK_ACCURACIES).get_errorbar_data("model")
gpt3_no_cot_alias_data: ErrorBarData = PlotData(filter_df(gpt3_alias_df, model=None, num_ugp=200, num_rgp=200, num_rep=2,owt=None),
                                               columns=ALIAS_NO_COT_TASK_ACCURACIES).get_errorbar_data("model")
llama_alias_data: ErrorBarData = PlotData(filter_df(llama_alias_df, model=None, num_ugp=200, num_rgp=200, num_rep=2, owt=None),
                                          columns=ALIAS_OPENSOURCE_NO_COT_TASK_ACCURACIES).get_errorbar_data("model")


gpt3_alias_data.x = [model_to_flops(str(model)) for model in gpt3_alias_data.x]
gpt3_no_cot_alias_data.x = [model_to_flops(str(model)) for model in gpt3_no_cot_alias_data.x]
llama_alias_data.x = [model_to_flops(str(model)) for model in llama_alias_data.x]

print(llama_alias_data)

plot_errorbar(
    filename="scaling_alias.pdf",
    data=[llama_alias_data, gpt3_no_cot_alias_data],
    labels=["LLaMA no CoT", "GPT-3 No CoT"],
    xlabel="Pretraining FLOPs",
    ylabel="Out of Context Accuracy",
    annotations=[["llama-7b" , "llama-13b"], ["ada", "babbage", "curie", "davinci"]],
    config_override=merge_configs(load_from_yaml("configs/scaling_errorbar.yaml"),
                                    {'non_rc_params': {'ylim': (0, 0.2), 'yaxis.major_locator': 0.1}}),
    preset_override="seaborn-whitegrid")