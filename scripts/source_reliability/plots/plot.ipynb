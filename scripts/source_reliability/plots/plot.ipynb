{
 "cells": [
  {
   "cell_type": "code",
   "execution_count": 1,
   "metadata": {},
   "outputs": [],
   "source": [
    "from collections import defaultdict\n",
    "\n",
    "import matplotlib.ticker as ticker\n",
    "import numpy as np\n",
    "import wandb"
   ]
  },
  {
   "attachments": {},
   "cell_type": "markdown",
   "metadata": {},
   "source": [
    "### Get figure data from W&B"
   ]
  },
  {
   "cell_type": "code",
   "execution_count": 2,
   "metadata": {},
   "outputs": [],
   "source": [
    "experiment_name = \"v3_r40u20\"  # TODO: replace with yours\n",
    "wandb_entity = \"sita\"  # TODO: replace with yours\n",
    "wandb_project = \"source-reliability\"  "
   ]
  },
  {
   "cell_type": "code",
   "execution_count": 3,
   "metadata": {},
   "outputs": [
    {
     "name": "stdout",
     "output_type": "stream",
     "text": [
      "Found 4 groups of runs:\n",
      "v3_r40u20: 12 runs\n",
      "v3_r40u20_09: 12 runs\n",
      "v3_r40u20_075: 12 runs\n",
      "v3_r40u20_05: 12 runs\n"
     ]
    }
   ],
   "source": [
    "api = wandb.Api()\n",
    "\n",
    "# 1. Pull wandb runs from a specific organization and project\n",
    "runs = api.runs(f'{wandb_entity}/{wandb_project}')\n",
    "\n",
    "# 2. Filter the runs\n",
    "filtered_runs = [run for run in runs if run.config.get('experiment_name') == experiment_name and run.state not in [\"crashed\", \"failed\"]]\n",
    "\n",
    "# 3. Group the runs by run.config.data_path\n",
    "runs_by_path = defaultdict(list)\n",
    "for run in filtered_runs:\n",
    "    data_path = run.config.get('data_path')\n",
    "    if data_path:\n",
    "        runs_by_path[data_path].append(run)\n",
    "\n",
    "print(f'Found {len(runs_by_path)} groups of runs:')\n",
    "for data_path, runs in runs_by_path.items():\n",
    "    print(f'{data_path}: {len(runs)} runs')\n",
    "\n"
   ]
  },
  {
   "cell_type": "code",
   "execution_count": 4,
   "metadata": {},
   "outputs": [],
   "source": [
    "def get_reliability_from_datapath(data_path: str) -> int:\n",
    "    sep = \"_0\"\n",
    "    if sep not in data_path:\n",
    "        reliability = 100\n",
    "    else:\n",
    "        reliability = data_path.split(sep)[1]\n",
    "        reliability = reliability.ljust(2, '0')\n",
    "    return int(reliability)"
   ]
  },
  {
   "cell_type": "code",
   "execution_count": 5,
   "metadata": {},
   "outputs": [],
   "source": [
    "# 4. Make data for the plot\n",
    "plot_data = []\n",
    "for data_path, runs in runs_by_path.items():\n",
    "\n",
    "    # Collect epoch and accuracy data across runs for the same data path\n",
    "    accuracies_by_epoch = defaultdict(list)\n",
    "    for run in runs:\n",
    "        num_epochs = run.config.get('num_epochs')\n",
    "        metric_key = 'eval/mean/fraction_reliable'\n",
    "\n",
    "        if metric_key not in run.summary:\n",
    "            continue\n",
    "\n",
    "        history = run.scan_history(keys=[metric_key])\n",
    "        for i, row in enumerate(history):\n",
    "            epoch_num = i+1 # assume logged once per epoch\n",
    "            accuracies_by_epoch[epoch_num].append(row[metric_key])\n",
    "\n",
    "        assert len(accuracies_by_epoch) == num_epochs, f\"num_epochs: {num_epochs}, len(accuracies_by_epoch): {len(accuracies_by_epoch)}\"\n",
    "\n",
    "    # Convert to numpy arrays for easier manipulation\n",
    "    epochs = np.array(list(accuracies_by_epoch.keys()))\n",
    "    accuracies = np.array(list(accuracies_by_epoch.values()))\n",
    "\n",
    "    # Calculate mean and standard deviation\n",
    "    mean_accuracy = np.mean(accuracies, axis=1)\n",
    "    std_accuracy = np.std(accuracies, axis=1)\n",
    "\n",
    "    # Plot mean accuracy and standard deviation\n",
    "    plot_data.append((data_path, epochs, mean_accuracy, std_accuracy))\n",
    "\n",
    "plot_data.sort(key=lambda x: get_reliability_from_datapath(x[0]), reverse=True)"
   ]
  },
  {
   "attachments": {},
   "cell_type": "markdown",
   "metadata": {},
   "source": [
    "### Reusable Plotting "
   ]
  },
  {
   "cell_type": "code",
   "execution_count": 13,
   "metadata": {},
   "outputs": [],
   "source": [
    "from cycler import cycler\n",
    "\n",
    "def merge_configs(*configs):\n",
    "    \"\"\"\n",
    "    Merges multiple configs into one. \n",
    "    If a key is present in multiple configs, the value from the last config is used.\n",
    "    \"\"\"\n",
    "    merged_config = {}\n",
    "    for config in configs:\n",
    "        for key, value in config.items():\n",
    "            if key in merged_config and isinstance(value, dict) and isinstance(merged_config[key], dict):\n",
    "                merged_config[key] = merge_configs(merged_config[key], value)\n",
    "            else:\n",
    "                merged_config[key] = value\n",
    "    return merged_config\n",
    "\n",
    "\n",
    "def convert_to_cyclers(config: dict) -> dict:\n",
    "    if \"rc_params\" in config and \"axes.prop_cycle\" in config[\"rc_params\"]:\n",
    "        config[\"rc_params\"][\"axes.prop_cycle\"] = cycler(**config[\"rc_params\"][\"axes.prop_cycle\"])\n",
    "    return config"
   ]
  },
  {
   "cell_type": "code",
   "execution_count": 10,
   "metadata": {},
   "outputs": [],
   "source": [
    "import os\n",
    "from typing import List, Optional\n",
    "from src.common import load_from_yaml\n",
    "import matplotlib.pyplot as plt\n",
    "import matplotlib.ticker as mtick\n",
    "from scripts.assistant.plots.plot_utils import ErrorBarData\n",
    "\n",
    "default_config = load_from_yaml(\"../../assistant/plots/configs/errorbar.yaml\")\n",
    "\n",
    "def plot_errorbar(\n",
    "    data: List[ErrorBarData],\n",
    "    labels: Optional[List[str]] = None,\n",
    "    filename: Optional[str] = None,\n",
    "    suptitle: str = \"\",\n",
    "    title: str = \"\",\n",
    "    xlabel: str = \"\",\n",
    "    ylabel: str = \"\",\n",
    "    annotations: Optional[List[Optional[List[str]]]] = None,\n",
    "    config_override: dict = {},\n",
    "    preset_override: Optional[str] = None,\n",
    "):   \n",
    "    config = merge_configs(default_config, config_override)\n",
    "    config = convert_to_cyclers(config)\n",
    "    if preset_override:\n",
    "        plt.style.use(preset_override)\n",
    "        rc_params = plt.rcParams\n",
    "    else:\n",
    "        rc_params = config[\"rc_params\"]\n",
    "    \n",
    "    with plt.rc_context(rc_params):\n",
    "        fig, ax = plt.subplots()\n",
    "        for i, d in enumerate(data):\n",
    "            label = labels[i] if labels is not None else \"\"\n",
    "            ax.errorbar(x=d.x, y=d.y, yerr=d.yerr, label=label)\n",
    "            if annotations is not None and annotations[i] is not None:\n",
    "                for j, annotation in enumerate(annotations[i]): # type: ignore\n",
    "                    ax.annotate(text=annotation, xy=(d.x[j], d.y[j]),\n",
    "                        **config[\"non_rc_params\"][\"annotate\"])\n",
    "        if suptitle != \"\":\n",
    "            plt.suptitle(suptitle)\n",
    "        if title != \"\":\n",
    "            plt.title(title)\n",
    "        plt.xlabel(xlabel)\n",
    "        plt.ylabel(ylabel)\n",
    "        if labels is not None:\n",
    "            plt.legend()\n",
    "        plt.grid(axis=\"x\", alpha=config[\"non_rc_params\"][\"grid.x_axis.alpha\"])\n",
    "        plt.grid(axis=\"y\", alpha=config[\"non_rc_params\"][\"grid.y_axis.alpha\"])\n",
    "        plt.xscale(config[\"non_rc_params\"][\"xscale\"])\n",
    "        plt.ylim(config[\"non_rc_params\"][\"ylim\"])\n",
    "        plt.gca().yaxis.set_major_locator(mtick.MultipleLocator(config[\"non_rc_params\"][\"yaxis.major_locator\"]))\n",
    "        plt.gca().yaxis.set_major_formatter(mtick.PercentFormatter(xmax=config[\"non_rc_params\"][\"yaxis.major_formatter.xmax\"]))\n",
    "        if filename is not None:\n",
    "            plt.savefig(os.path.join(\"outputs\", filename), bbox_inches=config[\"non_rc_params\"][\"savefig.bbox_inches\"])\n",
    "        plt.show()"
   ]
  },
  {
   "attachments": {},
   "cell_type": "markdown",
   "metadata": {},
   "source": [
    "### Plot the data"
   ]
  },
  {
   "cell_type": "code",
   "execution_count": 15,
   "metadata": {},
   "outputs": [
    {
     "ename": "TypeError",
     "evalue": "'set' object is not callable",
     "output_type": "error",
     "traceback": [
      "\u001b[0;31m---------------------------------------------------------------------------\u001b[0m",
      "\u001b[0;31mTypeError\u001b[0m                                 Traceback (most recent call last)",
      "\u001b[1;32m/Users/nikebless/code/mats/situational-awareness/scripts/source_reliability/plots/plot.ipynb Cell 11\u001b[0m in \u001b[0;36m<cell line: 1>\u001b[0;34m()\u001b[0m\n\u001b[1;32m      <a href='vscode-notebook-cell:/Users/nikebless/code/mats/situational-awareness/scripts/source_reliability/plots/plot.ipynb#X11sZmlsZQ%3D%3D?line=4'>5</a>\u001b[0m \u001b[39m# plt.plot(epochs, mean_accuracy, label=label)\u001b[39;00m\n\u001b[1;32m      <a href='vscode-notebook-cell:/Users/nikebless/code/mats/situational-awareness/scripts/source_reliability/plots/plot.ipynb#X11sZmlsZQ%3D%3D?line=5'>6</a>\u001b[0m \u001b[39m# plt.fill_between(epochs, mean_accuracy-std_accuracy, mean_accuracy+std_accuracy, alpha=0.2)\u001b[39;00m\n\u001b[1;32m      <a href='vscode-notebook-cell:/Users/nikebless/code/mats/situational-awareness/scripts/source_reliability/plots/plot.ipynb#X11sZmlsZQ%3D%3D?line=6'>7</a>\u001b[0m data \u001b[39m=\u001b[39m ErrorBarData(x\u001b[39m=\u001b[39mepochs, y\u001b[39m=\u001b[39mmean_accuracy, yerr\u001b[39m=\u001b[39mstd_accuracy)\n\u001b[0;32m----> <a href='vscode-notebook-cell:/Users/nikebless/code/mats/situational-awareness/scripts/source_reliability/plots/plot.ipynb#X11sZmlsZQ%3D%3D?line=7'>8</a>\u001b[0m plot_errorbar([data], labels\u001b[39m=\u001b[39;49m[label], filename\u001b[39m=\u001b[39;49m\u001b[39mf\u001b[39;49m\u001b[39m\"\u001b[39;49m\u001b[39maccuracy_reliable_\u001b[39;49m\u001b[39m{\u001b[39;49;00mexperiment_name\u001b[39m}\u001b[39;49;00m\u001b[39m.png\u001b[39;49m\u001b[39m\"\u001b[39;49m, title\u001b[39m=\u001b[39;49m\u001b[39m\"\u001b[39;49m\u001b[39mEffect of instruction source reliability on learning\u001b[39;49m\u001b[39m\"\u001b[39;49m, xlabel\u001b[39m=\u001b[39;49m\u001b[39m\"\u001b[39;49m\u001b[39mEpoch\u001b[39;49m\u001b[39m\"\u001b[39;49m, ylabel\u001b[39m=\u001b[39;49m\u001b[39m\"\u001b[39;49m\u001b[39mFrequency of choosing most reliable source\u001b[39;49m\u001b[39m\"\u001b[39;49m, annotations\u001b[39m=\u001b[39;49m\u001b[39mNone\u001b[39;49;00m, config_override\u001b[39m=\u001b[39;49m{}, preset_override\u001b[39m=\u001b[39;49m\u001b[39mNone\u001b[39;49;00m)\n\u001b[1;32m      <a href='vscode-notebook-cell:/Users/nikebless/code/mats/situational-awareness/scripts/source_reliability/plots/plot.ipynb#X11sZmlsZQ%3D%3D?line=8'>9</a>\u001b[0m \u001b[39mbreak\u001b[39;00m\n",
      "\u001b[1;32m/Users/nikebless/code/mats/situational-awareness/scripts/source_reliability/plots/plot.ipynb Cell 11\u001b[0m in \u001b[0;36mplot_errorbar\u001b[0;34m(data, labels, filename, suptitle, title, xlabel, ylabel, annotations, config_override, preset_override)\u001b[0m\n\u001b[1;32m     <a href='vscode-notebook-cell:/Users/nikebless/code/mats/situational-awareness/scripts/source_reliability/plots/plot.ipynb#X11sZmlsZQ%3D%3D?line=9'>10</a>\u001b[0m \u001b[39mdef\u001b[39;00m \u001b[39mplot_errorbar\u001b[39m(\n\u001b[1;32m     <a href='vscode-notebook-cell:/Users/nikebless/code/mats/situational-awareness/scripts/source_reliability/plots/plot.ipynb#X11sZmlsZQ%3D%3D?line=10'>11</a>\u001b[0m     data: List[ErrorBarData],\n\u001b[1;32m     <a href='vscode-notebook-cell:/Users/nikebless/code/mats/situational-awareness/scripts/source_reliability/plots/plot.ipynb#X11sZmlsZQ%3D%3D?line=11'>12</a>\u001b[0m     labels: Optional[List[\u001b[39mstr\u001b[39m]] \u001b[39m=\u001b[39m \u001b[39mNone\u001b[39;00m,\n\u001b[0;32m   (...)\u001b[0m\n\u001b[1;32m     <a href='vscode-notebook-cell:/Users/nikebless/code/mats/situational-awareness/scripts/source_reliability/plots/plot.ipynb#X11sZmlsZQ%3D%3D?line=19'>20</a>\u001b[0m     preset_override: Optional[\u001b[39mstr\u001b[39m] \u001b[39m=\u001b[39m \u001b[39mNone\u001b[39;00m,\n\u001b[1;32m     <a href='vscode-notebook-cell:/Users/nikebless/code/mats/situational-awareness/scripts/source_reliability/plots/plot.ipynb#X11sZmlsZQ%3D%3D?line=20'>21</a>\u001b[0m ):   \n\u001b[1;32m     <a href='vscode-notebook-cell:/Users/nikebless/code/mats/situational-awareness/scripts/source_reliability/plots/plot.ipynb#X11sZmlsZQ%3D%3D?line=21'>22</a>\u001b[0m     config \u001b[39m=\u001b[39m merge_configs(default_config, config_override)\n\u001b[0;32m---> <a href='vscode-notebook-cell:/Users/nikebless/code/mats/situational-awareness/scripts/source_reliability/plots/plot.ipynb#X11sZmlsZQ%3D%3D?line=22'>23</a>\u001b[0m     config \u001b[39m=\u001b[39m convert_to_cyclers(config)\n\u001b[1;32m     <a href='vscode-notebook-cell:/Users/nikebless/code/mats/situational-awareness/scripts/source_reliability/plots/plot.ipynb#X11sZmlsZQ%3D%3D?line=23'>24</a>\u001b[0m     \u001b[39mif\u001b[39;00m preset_override:\n\u001b[1;32m     <a href='vscode-notebook-cell:/Users/nikebless/code/mats/situational-awareness/scripts/source_reliability/plots/plot.ipynb#X11sZmlsZQ%3D%3D?line=24'>25</a>\u001b[0m         plt\u001b[39m.\u001b[39mstyle\u001b[39m.\u001b[39muse(preset_override)\n",
      "\u001b[1;32m/Users/nikebless/code/mats/situational-awareness/scripts/source_reliability/plots/plot.ipynb Cell 11\u001b[0m in \u001b[0;36mconvert_to_cyclers\u001b[0;34m(config)\u001b[0m\n\u001b[1;32m     <a href='vscode-notebook-cell:/Users/nikebless/code/mats/situational-awareness/scripts/source_reliability/plots/plot.ipynb#X11sZmlsZQ%3D%3D?line=17'>18</a>\u001b[0m \u001b[39mdef\u001b[39;00m \u001b[39mconvert_to_cyclers\u001b[39m(config: \u001b[39mdict\u001b[39m) \u001b[39m-\u001b[39m\u001b[39m>\u001b[39m \u001b[39mdict\u001b[39m:\n\u001b[1;32m     <a href='vscode-notebook-cell:/Users/nikebless/code/mats/situational-awareness/scripts/source_reliability/plots/plot.ipynb#X11sZmlsZQ%3D%3D?line=18'>19</a>\u001b[0m     \u001b[39mif\u001b[39;00m \u001b[39m\"\u001b[39m\u001b[39mrc_params\u001b[39m\u001b[39m\"\u001b[39m \u001b[39min\u001b[39;00m config \u001b[39mand\u001b[39;00m \u001b[39m\"\u001b[39m\u001b[39maxes.prop_cycle\u001b[39m\u001b[39m\"\u001b[39m \u001b[39min\u001b[39;00m config[\u001b[39m\"\u001b[39m\u001b[39mrc_params\u001b[39m\u001b[39m\"\u001b[39m]:\n\u001b[0;32m---> <a href='vscode-notebook-cell:/Users/nikebless/code/mats/situational-awareness/scripts/source_reliability/plots/plot.ipynb#X11sZmlsZQ%3D%3D?line=19'>20</a>\u001b[0m         config[\u001b[39m\"\u001b[39m\u001b[39mrc_params\u001b[39m\u001b[39m\"\u001b[39m][\u001b[39m\"\u001b[39m\u001b[39maxes.prop_cycle\u001b[39m\u001b[39m\"\u001b[39m] \u001b[39m=\u001b[39m cycler(\u001b[39m*\u001b[39m\u001b[39m*\u001b[39mconfig[\u001b[39m\"\u001b[39m\u001b[39mrc_params\u001b[39m\u001b[39m\"\u001b[39m][\u001b[39m\"\u001b[39m\u001b[39maxes.prop_cycle\u001b[39m\u001b[39m\"\u001b[39m])\n\u001b[1;32m     <a href='vscode-notebook-cell:/Users/nikebless/code/mats/situational-awareness/scripts/source_reliability/plots/plot.ipynb#X11sZmlsZQ%3D%3D?line=20'>21</a>\u001b[0m     \u001b[39mreturn\u001b[39;00m config\n",
      "\u001b[0;31mTypeError\u001b[0m: 'set' object is not callable"
     ]
    }
   ],
   "source": [
    "for data_path, epochs, mean_accuracy, std_accuracy in plot_data:\n",
    "    reliability = get_reliability_from_datapath(data_path)\n",
    "    label = f\"{reliability}% reliability\"\n",
    "\n",
    "    # plt.plot(epochs, mean_accuracy, label=label)\n",
    "    # plt.fill_between(epochs, mean_accuracy-std_accuracy, mean_accuracy+std_accuracy, alpha=0.2)\n",
    "    data = ErrorBarData(x=epochs, y=mean_accuracy, yerr=std_accuracy)\n",
    "    plot_errorbar([data], labels=[label], filename=f\"accuracy_reliable_{experiment_name}.png\", title=\"Effect of instruction source reliability on learning\", xlabel=\"Epoch\", ylabel=\"Frequency of choosing most reliable source\", annotations=None, config_override={}, preset_override=None)\n",
    "\n",
    "\n",
    "# # Show the plot\n",
    "# plt.grid(axis='y')\n",
    "# ax = plt.gca()\n",
    "# ax.xaxis.set_major_locator(ticker.MaxNLocator(nbins=15+1))\n",
    "\n",
    "# plt.title('Effect of instruction source reliability on learning')\n",
    "# plt.xlabel('Epoch')\n",
    "# plt.ylabel('Frequency of choosing most reliable source')\n",
    "# plt.legend(loc='lower right')\n",
    "\n",
    "# plt.yticks([0.0, 0.5, 0.75, 0.9, 1.0])\n",
    "# plt.ylim(-0.05, 1.05)\n",
    "# plt.savefig(f'outputs/accuracy_reliable_{experiment_name}.png', dpi=300)\n",
    "# plt.savefig(f'outputs/accuracy_reliable_{experiment_name}.pdf', dpi=300)\n",
    "\n",
    "# # make it bigger\n",
    "# plt.gcf().set_size_inches(8, 6)"
   ]
  },
  {
   "cell_type": "code",
   "execution_count": 7,
   "metadata": {},
   "outputs": [
    {
     "name": "stdout",
     "output_type": "stream",
     "text": [
      "\\begin{tabular}{ll}\n",
      "\\hline\n",
      " Source Reliability   & Final Mean Accuracy (SD)   \\\\\n",
      "\\hline\n",
      " 100\\% reliability     & 0.98 (0.02)                \\\\\n",
      " 90\\% reliability      & 1.00 (0.00)                \\\\\n",
      " 75\\% reliability      & 0.92 (0.06)                \\\\\n",
      " 50\\% reliability      & 0.60 (0.07)                \\\\\n",
      "\\hline\n",
      "\\end{tabular}\n"
     ]
    }
   ],
   "source": [
    "from tabulate import tabulate\n",
    "\n",
    "# Prepare data for the LaTeX table\n",
    "latex_table_data = []\n",
    "\n",
    "for data_path, epochs, mean_accuracy, std_accuracy in plot_data:\n",
    "    reliability = get_reliability_from_datapath(data_path)\n",
    "    label = f\"{reliability}% reliability\"\n",
    "    \n",
    "    final_accuracy = mean_accuracy[-1]\n",
    "    final_std = std_accuracy[-1]\n",
    "    \n",
    "    accuracy_with_std = \"{:.2f} ({:.2f})\".format(final_accuracy, final_std)\n",
    "    latex_table_data.append([label, accuracy_with_std])\n",
    "\n",
    "# Generate the LaTeX table with tabulate\n",
    "latex_table = tabulate(latex_table_data, \n",
    "                       headers=['Source Reliability', 'Final Mean Accuracy (SD)'], \n",
    "                        tablefmt='latex')\n",
    "\n",
    "# Print the LaTeX table\n",
    "print(latex_table)\n"
   ]
  },
  {
   "cell_type": "code",
   "execution_count": 8,
   "metadata": {},
   "outputs": [
    {
     "name": "stdout",
     "output_type": "stream",
     "text": [
      "Source Reliability\tMean Final Accuracy (SD)\n",
      "100% reliability\t0.98 (0.02)\n",
      "90% reliability\t1.00 (0.00)\n",
      "75% reliability\t0.92 (0.06)\n",
      "50% reliability\t0.60 (0.07)\n"
     ]
    }
   ],
   "source": [
    "# Generate a header line\n",
    "header = ['Source Reliability', 'Mean Final Accuracy (SD)']\n",
    "\n",
    "# Print the header\n",
    "print('\\t'.join(header))\n",
    "\n",
    "# Print each row\n",
    "for row in latex_table_data:\n",
    "    print('\\t'.join(row))"
   ]
  }
 ],
 "metadata": {
  "kernelspec": {
   "display_name": "sita",
   "language": "python",
   "name": "python3"
  },
  "language_info": {
   "codemirror_mode": {
    "name": "ipython",
    "version": 3
   },
   "file_extension": ".py",
   "mimetype": "text/x-python",
   "name": "python",
   "nbconvert_exporter": "python",
   "pygments_lexer": "ipython3",
   "version": "3.10.11"
  },
  "orig_nbformat": 4
 },
 "nbformat": 4,
 "nbformat_minor": 2
}
